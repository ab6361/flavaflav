{
 "cells": [
  {
   "cell_type": "code",
   "execution_count": 2,
   "metadata": {},
   "outputs": [
    {
     "data": {
      "text/plain": [
       "2"
      ]
     },
     "execution_count": 2,
     "metadata": {},
     "output_type": "execute_result"
    }
   ],
   "source": [
    "import numpy as np\n",
    "import matplotlib.pyplot as plt\n",
    "import time, sys\n",
    "sys.path.append('/Users/AbSir/Library/CloudStorage/GoogleDrive-asharda@vols.utk.edu/My Drive/xem2')\n",
    "from common_functions import jra_nprat, NZ_target, fitit\n",
    "import warnings\n",
    "from scipy.integrate import simps\n",
    "from scipy.integrate import quad\n",
    "import pandas as pd\n",
    "from summary_dictionary import ryan_data, nadia_data\n",
    "from abhyuday_data import abhyuday_data\n",
    "from scipy.interpolate import interp1d\n",
    "import scipy.constants as const\n",
    "from scipy.constants import physical_constants\n",
    "\n",
    "target = 'h2'\n",
    "N, Z = NZ_target(target)\n",
    "A = N + Z\n",
    "qs = 10 # Momentum transfer squared\n",
    "mp = physical_constants['proton mass energy equivalent in MeV'][0] / 1000 # Proton mass in GeV\n",
    "hbar_c = physical_constants['reduced Planck constant times c in MeV fm'][0]\n",
    "# print(f\"\\hbar c in MeV*fm: {hbar_c}\")\n",
    "n_mass = physical_constants['neutron mass energy equivalent in MeV'][0]\n",
    "# print(f\"Mass of neutron in MeV/c^2: {n_mass}\")\n",
    "p_mass = physical_constants['proton mass energy equivalent in MeV'][0]\n",
    "A"
   ]
  },
  {
   "cell_type": "markdown",
   "metadata": {},
   "source": [
    "# Reading the 1 body density file"
   ]
  },
  {
   "cell_type": "code",
   "execution_count": 3,
   "metadata": {},
   "outputs": [
    {
     "data": {
      "image/png": "[encoded data removed]",
      "text/plain": [
       "<Figure size 640x480 with 1 Axes>"
      ]
     },
     "metadata": {},
     "output_type": "display_data"
    }
   ],
   "source": [
    "file_path = f'density/{target}.density'\n",
    "R_list = []\n",
    "RHORP_list = []\n",
    "DRHORP_list = []\n",
    "RHORN_list = []\n",
    "DRHORN_list = []\n",
    "warnings.filterwarnings('ignore')\n",
    "\n",
    "def process_data(file_path):\n",
    "    # Flag to indicate parsing should start\n",
    "    start_parsing = False\n",
    "    \n",
    "    # Open the file for reading\n",
    "    with open(file_path, 'r') as file:\n",
    "        for line in file:\n",
    "            # Check if the current line is the delimiter\n",
    "            if '*****' in line:\n",
    "                start_parsing = True\n",
    "                continue  # Skip the delimiter line\n",
    "            \n",
    "            # Start processing lines after the delimiter\n",
    "            if start_parsing:\n",
    "                # Split the line into columns based on whitespace\n",
    "                columns = line.split()\n",
    "                \n",
    "                # Check if the line has the expected columns\n",
    "                if len(columns) == 5:\n",
    "                    # Convert R and RHORP to float, and DRHORP to float (handling scientific notation)\n",
    "                    try:\n",
    "                        R, RHORP, DRHORP, RHORN, DRHORN = float(columns[0]), float(columns[1]), float(columns[2]), float(columns[3]), float(columns[4])\n",
    "                        R_list.append(R)\n",
    "                        RHORP_list.append(RHORP)\n",
    "                        DRHORP_list.append(DRHORP)\n",
    "                        RHORN_list.append(RHORN)\n",
    "                        DRHORN_list.append(DRHORN)\n",
    "                        # print(columns)\n",
    "                    except:\n",
    "                        start_parsing = False\n",
    "                        break\n",
    "                elif len(columns) == 3:\n",
    "                    try:\n",
    "                        R, RHORP, DRHORP = float(columns[0]), float(columns[1]), float(columns[2])\n",
    "                        R_list.append(R)\n",
    "                        RHORP_list.append(RHORP)\n",
    "                        DRHORP_list.append(DRHORP)\n",
    "                        RHORN_list.append(RHORP)\n",
    "                        DRHORN_list.append(DRHORP)\n",
    "                    except:\n",
    "                        start_parsing = False\n",
    "                        break\n",
    "                elif len(columns) == 4: # For deuterium only\n",
    "                    try:\n",
    "                        R, RHORP, DRHORP = float(columns[0]), float(columns[2]), float(columns[3])\n",
    "                        R_list.append(R)\n",
    "                        RHORP_list.append(RHORP)\n",
    "                        DRHORP_list.append(DRHORP)\n",
    "                        RHORN_list.append(RHORP)\n",
    "                        DRHORN_list.append(DRHORP)\n",
    "                    except:\n",
    "                        start_parsing = False\n",
    "                        break\n",
    "\n",
    "    # Return the processed data\n",
    "    # return R_array, RHORP_array, DRHORP_array, RHORN_array, DRHORN_array\n",
    "    return R_list, RHORP_list, DRHORP_list, RHORN_list, DRHORN_list\n",
    "\n",
    "R, RHORP, DRHORP, RHORN, DRHORN = process_data(file_path)\n",
    "\n",
    "fig, ax = plt.subplots()\n",
    "# Plot the data\n",
    "ax.errorbar(R, RHORP, marker = 'o', yerr = DRHORP, color = 'b', markersize = 3, linestyle = 'None')\n",
    "ax.set_xlabel('Radius in fm')\n",
    "ax.set_ylabel(r'$1/fm^3$')\n",
    "ax.set_yscale('log')\n",
    "ax.set_xlim(0, 8)\n",
    "ax.set_title(f'{target} Proton Density Distribution')\n",
    "ax.grid(alpha = 0.2)\n",
    "# fig.savefig(f'plots/{target}_density_{time.time():.0f}.pdf')"
   ]
  },
  {
   "cell_type": "markdown",
   "metadata": {},
   "source": [
    "# Reading the 2 body density file"
   ]
  },
  {
   "cell_type": "code",
   "execution_count": 4,
   "metadata": {},
   "outputs": [
    {
     "data": {
      "image/png": "[encoded data removed]",
      "text/plain": [
       "<Figure size 640x480 with 1 Axes>"
      ]
     },
     "metadata": {},
     "output_type": "display_data"
    }
   ],
   "source": [
    "file_path = f'density2/{target}.density2'\n",
    "RHORPP_list = []\n",
    "RHORNP_list = []\n",
    "RHORNN_list = []\n",
    "R_list = []\n",
    "DRHORPP_list = []\n",
    "DRHORNP_list = []\n",
    "DRHORNN_list = []\n",
    "\n",
    "def process_tbd(file_path):\n",
    "    # Flag to indicate parsing should start\n",
    "    start_parsing = False\n",
    "    \n",
    "    # Open the file for reading\n",
    "    with open(file_path, 'r') as file:\n",
    "        for line in file:\n",
    "            # Check if the current line is the delimiter\n",
    "            if '*****' in line:\n",
    "                start_parsing = True\n",
    "                continue  # Skip the delimiter line\n",
    "            \n",
    "            # Start processing lines after the delimiter\n",
    "            if start_parsing:\n",
    "                # Split the line into columns based on whitespace\n",
    "                columns = line.split()\n",
    "                \n",
    "                # Check if the line has the expected number of columns\n",
    "                if len(columns) == 7:\n",
    "                    # Convert R and RHORP to float, and DRHORP to float (handling scientific notation)\n",
    "                    try:\n",
    "                        R, RHORPP, DRHORPP, RHORNP, DRHORNP, RHORNN, DRHORNN = float(columns[0]), float(columns[1]), float(columns[2]), float(columns[3]), float(columns[4]), float(columns[5]), float(columns[6])\n",
    "                        R_list.append(R)\n",
    "                        RHORPP_list.append(RHORPP)\n",
    "                        DRHORPP_list.append(DRHORPP)\n",
    "                        RHORNP_list.append(RHORNP)\n",
    "                        DRHORNP_list.append(DRHORNP)\n",
    "                        RHORNN_list.append(RHORNN)\n",
    "                        DRHORNN_list.append(DRHORNN)\n",
    "                    except:\n",
    "                        start_parsing = False\n",
    "                        break\n",
    "                elif len(columns) == 5:\n",
    "                    try:\n",
    "                        R, RHORPP, DRHORPP, RHORNP, DRHORNP = float(columns[0]), float(columns[1]), float(columns[2]), float(columns[3]), float(columns[4])\n",
    "                        R_list.append(R)\n",
    "                        RHORPP_list.append(RHORPP)\n",
    "                        DRHORPP_list.append(DRHORPP)\n",
    "                        RHORNP_list.append(RHORNP)\n",
    "                        DRHORNP_list.append(DRHORNP)\n",
    "                        RHORNN_list.append(RHORPP)\n",
    "                        DRHORNN_list.append(DRHORPP)\n",
    "                    except:\n",
    "                        start_parsing = False\n",
    "                        break\n",
    "                elif len(columns) == 4:\n",
    "                    try:\n",
    "                        R, RHORNP, DRHORNP = float(columns[0]), float(columns[2]), float(columns[3])\n",
    "                        R_list.append(R)\n",
    "                        RHORPP_list.append(0)\n",
    "                        DRHORPP_list.append(0)\n",
    "                        RHORNP_list.append(RHORNP)\n",
    "                        DRHORNP_list.append(DRHORNP)\n",
    "                        RHORNN_list.append(0)\n",
    "                        DRHORNN_list.append(0)\n",
    "                    except:\n",
    "                        start_parsing = False\n",
    "                        break\n",
    "\n",
    "    # Return the processed data\n",
    "    return R_list, RHORPP_list, DRHORPP_list, RHORNP_list, DRHORNP_list, RHORNN_list, DRHORNN_list\n",
    "\n",
    "R2, RHORPP, DRHORPP, RHORNP, DRHORNP, RHORNN, DRHORNN = process_tbd(file_path)\n",
    "\n",
    "tbd_r = np.array(R2)\n",
    "rhorpp_values = np.array(RHORPP)\n",
    "rhorpn_values = np.array(RHORNP)\n",
    "rhornn_values = np.array(RHORNN)\n",
    "\n",
    "fig, ax = plt.subplots()\n",
    "# Plot the data\n",
    "ax.errorbar(R2, RHORNP, yerr = DRHORNP, marker = 'o', color = 'b', markersize = 3, linestyle = 'None')\n",
    "ax.set_xlabel('Radius in fm')\n",
    "ax.set_ylabel(r'$1/fm^3$')\n",
    "ax.set_yscale('log')\n",
    "# ax.set_xlim(0, 16)\n",
    "ax.set_title(f'{target} Neutron-proton Density Distribution')\n",
    "ax.grid(alpha = 0.2)\n",
    "# fig.savefig(f'plots/{target}_2bodydensity_{time.time():.0f}.pdf')"
   ]
  },
  {
   "cell_type": "markdown",
   "metadata": {},
   "source": [
    "# Reading the momentum file"
   ]
  },
  {
   "cell_type": "code",
   "execution_count": 5,
   "metadata": {},
   "outputs": [
    {
     "data": {
      "image/png": "[encoded data removed]",
      "text/plain": [
       "<Figure size 640x480 with 1 Axes>"
      ]
     },
     "metadata": {},
     "output_type": "display_data"
    }
   ],
   "source": [
    "file_path = f'momentum/{target}.momentum'\n",
    "K_list = []\n",
    "RHOKN1_list = []\n",
    "RHOKP1_list = []\n",
    "DRHOKN1_list = []\n",
    "DRHOKP1_list = []\n",
    "\n",
    "def process_mom(file_path):\n",
    "    # Flag to indicate parsing should start\n",
    "    start_parsing = False\n",
    "    \n",
    "    # Open the file for reading\n",
    "    with open(file_path, 'r') as file:\n",
    "        for line in file:\n",
    "            # Check if the current line is the delimiter\n",
    "            if '*****' in line:\n",
    "                start_parsing = True\n",
    "                continue  # Skip the delimiter line\n",
    "            \n",
    "            # Start processing lines after the delimiter\n",
    "            if start_parsing:\n",
    "                # Split the line into columns based on whitespace\n",
    "                columns = line.split()\n",
    "                \n",
    "                # Check if the line has the expected number of columns\n",
    "                if len(columns) == 5:\n",
    "                    # Convert R and RHORP to float, and DRHORP to float (handling scientific notation)\n",
    "                    try:\n",
    "                        K, RHOKN1, DRHOKN1, RHOKP1, DRHOKP1 = float(columns[0]), float(columns[1]), float(columns[2]), float(columns[3]), float(columns[4])\n",
    "                        K_list.append(K)\n",
    "                        RHOKN1_list.append(RHOKN1)\n",
    "                        RHOKP1_list.append(RHOKP1)\n",
    "                        DRHOKN1_list.append(DRHOKN1)\n",
    "                        DRHOKP1_list.append(DRHOKP1)\n",
    "                    except:\n",
    "                        start_parsing = False\n",
    "                        break\n",
    "                if len(columns) == 3:\n",
    "                    try:\n",
    "                        K, RHOKP1, DRHOKP1 = float(columns[0]), float(columns[1]), float(columns[2])\n",
    "                        K_list.append(K)\n",
    "                        RHOKN1_list.append(RHOKP1)\n",
    "                        RHOKP1_list.append(RHOKP1)\n",
    "                        DRHOKN1_list.append(DRHOKP1)\n",
    "                        DRHOKP1_list.append(DRHOKP1)\n",
    "                    except:\n",
    "                        start_parsing = False\n",
    "                        break\n",
    "                if len(columns) == 4: # For deuterium only\n",
    "                    try:\n",
    "                        K, RHOKP1 = float(columns[0]), float(columns[3])\n",
    "                        K_list.append(K)\n",
    "                        RHOKN1_list.append(RHOKP1)\n",
    "                        RHOKP1_list.append(RHOKP1)\n",
    "                        DRHOKN1_list.append(0) # deuterium file does not have error values\n",
    "                        DRHOKP1_list.append(0)\n",
    "                    except:\n",
    "                        start_parsing = False\n",
    "                        break\n",
    "\n",
    "    # Return the processed data\n",
    "    return K_list, RHOKN1_list, RHOKP1_list, DRHOKN1_list, DRHOKP1_list\n",
    "\n",
    "K, RHOKN1, RHOKP1, DRHOKN1, DRHOKP1 = process_mom(file_path)\n",
    "\n",
    "momentum = np.array(K)\n",
    "rhokn1_values = np.array(RHOKN1)\n",
    "rhokp1_values = np.array(RHOKP1)\n",
    "\n",
    "fig, ax = plt.subplots()\n",
    "# Plot the data\n",
    "ax.errorbar(K, RHOKP1, yerr = DRHOKP1, marker = 'o', color = 'b', markersize = 3, linestyle = 'None')\n",
    "ax.set_xlabel(r'Momentum in $1/fm$')\n",
    "ax.set_ylabel(r'Proton Momentum Distribution $fm^3$')\n",
    "ax.set_yscale('log')\n",
    "ax.set_title(f'{target}')\n",
    "ax.grid(alpha = 0.2)\n",
    "# fig.savefig(f'plots/{target}_2bodydensity_{time.time():.0f}.pdf')"
   ]
  },
  {
   "cell_type": "markdown",
   "metadata": {},
   "source": [
    "<h1 style=\"color:lightblue; text-align:center\">Calculating average proton density (fig1)</h1>"
   ]
  },
  {
   "cell_type": "markdown",
   "metadata": {},
   "source": [
    "\\begin{equation}\n",
    "    \\langle\\rho\\rangle_p = \\frac{\\int \\rho_p^2(r) r^2 dr}{\\int \\rho_p(r) r^2 dr}\n",
    "\\end{equation}\n",
    "\n",
    "\\begin{equation}\n",
    "    \\text{RMS Radii} = \\sqrt{\\frac{4 \\pi \\int \\rho(r) r^4 \\, dr}{N}}\n",
    "\\end{equation}\n",
    "\n",
    "\\begin{equation}\n",
    "    N = 4 \\pi \\int \\rho(r) r^2 \\, dr\n",
    "\\end{equation}"
   ]
  },
  {
   "cell_type": "code",
   "execution_count": 6,
   "metadata": {},
   "outputs": [
    {
     "name": "stdout",
     "output_type": "stream",
     "text": [
      "201\n",
      "201\n",
      "201\n",
      "The normalization constant is: 0.9990\n",
      "The RMS radius is: 1.9675 fm\n",
      "The denominator is 0.0795\n",
      "The expectation value of the proton density for h2 is: 0.0380 fm^3\n"
     ]
    }
   ],
   "source": [
    "# Convert lists to numpy arrays\n",
    "r_values = np.array(R)\n",
    "rhorp_values = np.array(RHORP)\n",
    "rhorn_values = np.array(RHORN)\n",
    "\n",
    "# Calculate the squared values for the numerator\n",
    "rhorp_squared = rhorp_values**2\n",
    "rhorn_squared = rhorn_values**2\n",
    "print(len(rhorp_squared))\n",
    "print(len(rhorn_squared))\n",
    "print(len(r_values))\n",
    "\n",
    "# Compute the integrals. The first argument is the function to integrate, the second argument is the integration variable in the form of an array\n",
    "numerator = simps(rhorp_squared * r_values**2, r_values)\n",
    "denominator = simps(rhorp_values * r_values**2, r_values)\n",
    "rms = simps(rhorp_values * r_values**4, r_values)\n",
    "normalization = 4 * np.pi * denominator\n",
    "rms_radii = np.sqrt((4 * np.pi * rms) / normalization)\n",
    "\n",
    "# Calculate the expectation value\n",
    "expectation_value = numerator / denominator\n",
    "\n",
    "print(f'The normalization constant is: {normalization:.4f}')\n",
    "print(f'The RMS radius is: {rms_radii:.4f} fm')\n",
    "print(f'The denominator is {denominator:.4f}')\n",
    "print(f'The expectation value of the proton density for {target} is: {expectation_value:.4f} fm^3')"
   ]
  },
  {
   "cell_type": "markdown",
   "metadata": {},
   "source": [
    "<h2 style=\"color:lightblue; text-align:center\">Calculating average neutron density (fig1)</h2>"
   ]
  },
  {
   "cell_type": "code",
   "execution_count": 7,
   "metadata": {},
   "outputs": [
    {
     "name": "stdout",
     "output_type": "stream",
     "text": [
      "The expectation value of the neutron density for h2 is: 0.0380 fm^3\n"
     ]
    }
   ],
   "source": [
    "numerator_n = simps(rhorn_squared * r_values**2, r_values)\n",
    "denominator_n = simps(rhorn_values * r_values**2, r_values)\n",
    "normalization_n = 4 * np.pi * denominator_n\n",
    "expectation_value_n = numerator_n / denominator_n\n",
    "if denominator_n == 0:\n",
    "    expectation_value_n = expectation_value\n",
    "print(f\"The expectation value of the neutron density for {target} is: {expectation_value_n:.4f} fm^3\")"
   ]
  },
  {
   "cell_type": "markdown",
   "metadata": {},
   "source": [
    "<h2 style=\"color:lightblue; text-align:center\">Calculating average density of nucleons as sampled by protons (fig1)</h1>"
   ]
  },
  {
   "cell_type": "markdown",
   "metadata": {},
   "source": [
    "\n",
    "\\begin{equation}\n",
    "    \\text{Numerator} = \\int \\rho_p^2(r) r^2 dr\n",
    "\\end{equation}\n",
    "\n",
    "\\begin{equation}\n",
    "    \\text{Denominator} = \\int \\rho_p(r) r^2 dr\n",
    "\\end{equation}"
   ]
  },
  {
   "cell_type": "code",
   "execution_count": 8,
   "metadata": {},
   "outputs": [
    {
     "name": "stdout",
     "output_type": "stream",
     "text": [
      "The average density of nucleons sampled by protons for h2 is: 0.0760 fm^3\n",
      "Column 19 in Ryan's summary file for h2 is 0.076\n"
     ]
    }
   ],
   "source": [
    "def integrand(r):\n",
    "    return r**2 * rhorp_values * (rhorn_values + rhorp_values)\n",
    "\n",
    "nume_sampled = 4 * np.pi * simps(integrand(r_values), r_values)\n",
    "\n",
    "density_sampled = nume_sampled / normalization\n",
    "fpdens = density_sampled\n",
    "print(f\"The average density of nucleons sampled by protons for {target} is: {density_sampled:.4f} fm^3\")\n",
    "y = 19\n",
    "print(f\"Column {y} in Ryan's summary file for {target} is {ryan_data[target][y-2]}\")"
   ]
  },
  {
   "cell_type": "markdown",
   "metadata": {},
   "source": [
    "<h2 style=\"color:lightblue; text-align:center\">Calculating average density of nucleons as sampled by neutrons (fig1)</h1>"
   ]
  },
  {
   "cell_type": "code",
   "execution_count": 9,
   "metadata": {},
   "outputs": [
    {
     "name": "stdout",
     "output_type": "stream",
     "text": [
      "The average density of nucleons sampled by neutrons for h2 is: 0.0760 fm^3\n"
     ]
    }
   ],
   "source": [
    "def integrand(r):\n",
    "    return r**2 * rhorn_values * (rhorn_values + rhorp_values)\n",
    "\n",
    "nume_sampled = 4 * np.pi * simps(integrand(r_values), r_values)\n",
    "density_sampled_n = nume_sampled / normalization_n\n",
    "print(f\"The average density of nucleons sampled by neutrons for {target} is: {density_sampled_n:.4f} fm^3\")\n",
    "fndens = density_sampled_n"
   ]
  },
  {
   "cell_type": "markdown",
   "metadata": {},
   "source": [
    "<h2 style=\"color:lightblue; text-align:center\">Excluding scattered protons (fig1)</h1>"
   ]
  },
  {
   "cell_type": "markdown",
   "metadata": {},
   "source": [
    "\\begin{equation}\n",
    "    \\langle \\rho ' \\rangle ^p _p=\\frac{4\\pi\\int [\\rho _p(r)\\times\\frac{Z-1}{Z}+\\rho _n(r)]\\rho_p(r) r^2 dr}{4\\pi\\int \\rho _p(r)r ^2 dr}\n",
    "\\end{equation}"
   ]
  },
  {
   "cell_type": "code",
   "execution_count": 10,
   "metadata": {},
   "outputs": [
    {
     "name": "stdout",
     "output_type": "stream",
     "text": [
      "The average density of nucleons sampled by protons excluding sampled proton for h2 is: 0.0380 fm^3\n"
     ]
    }
   ],
   "source": [
    "def integrand(r):\n",
    "    return r**2 * rhorp_values * (rhorp_values * ((normalization - 1) / normalization) + rhorn_values)\n",
    "\n",
    "nume_excluded = 4 * np.pi * simps(integrand(r_values), r_values)\n",
    "\n",
    "density_excluded = nume_excluded / normalization\n",
    "print(f\"The average density of nucleons sampled by protons excluding sampled proton for {target} is: {density_excluded:.4f} fm^3\")"
   ]
  },
  {
   "cell_type": "markdown",
   "metadata": {},
   "source": [
    "<h2 style=\"color:lightblue; text-align:center\">Excluding scattered neutrons (fig1)</h1>"
   ]
  },
  {
   "cell_type": "code",
   "execution_count": 11,
   "metadata": {},
   "outputs": [
    {
     "name": "stdout",
     "output_type": "stream",
     "text": [
      "The average density of nucleons sampled by neutrons excluding sampled neutron for h2 is: 0.0380 fm^3\n"
     ]
    }
   ],
   "source": [
    "def integrand(r):\n",
    "    return r**2 * rhorn_values * (rhorn_values * ((normalization_n - 1) / normalization_n) + rhorp_values)\n",
    "\n",
    "nume_excluded = 4 * np.pi * simps(integrand(r_values), r_values)\n",
    "density_excluded_n = nume_excluded / normalization_n\n",
    "print(f\"The average density of nucleons sampled by neutrons excluding sampled neutron for {target} is: {density_excluded_n:.4f} fm^3\")"
   ]
  },
  {
   "cell_type": "markdown",
   "metadata": {},
   "source": [
    "# Values in figure 1 reproduced successfully --------------------------------------------------------"
   ]
  },
  {
   "cell_type": "markdown",
   "metadata": {},
   "source": [
    "<h1 style=\"color:lightcoral; text-align:center\">Probability of a neutron to be within some distance of a proton (fig2)</h1>"
   ]
  },
  {
   "cell_type": "code",
   "execution_count": 12,
   "metadata": {},
   "outputs": [
    {
     "name": "stdout",
     "output_type": "stream",
     "text": [
      "Numerator: 0.05279\n",
      "Denominator: 1.000\n",
      "Probability of finding a proton-neutron pair within 1 fm in h2 is: 5.278%\n"
     ]
    }
   ],
   "source": [
    "dist = 1.0\n",
    "\n",
    "# Create an interpolation function based on the existing data points\n",
    "interpolation_function = interp1d(tbd_r, rhorpn_values, kind = 'linear')\n",
    "\n",
    "# Generate more points within the original domain for a denser dataset\n",
    "new_r = np.linspace(min(tbd_r), max(tbd_r), num = 10000)\n",
    "\n",
    "# Evaluate the interpolation function on the new momentum points\n",
    "new_rhorpn_values = interpolation_function(new_r)\n",
    "\n",
    "# Filter arrays where new_r < 1\n",
    "indices = np.where(new_r < dist)[0]\n",
    "new_l1f = new_r[indices]\n",
    "new_rhorpn_l1f = new_rhorpn_values[indices]\n",
    "\n",
    "# Numerator integration using Simpson's rule on interpolated data\n",
    "nume_acc = 4 * np.pi * simps(new_rhorpn_l1f * new_l1f**2, new_l1f)\n",
    "\n",
    "# For denominator, make sure to use interpolated values on full range\n",
    "deno_acc = 4 * np.pi * simps(new_rhorpn_values * new_r**2, new_r)\n",
    "\n",
    "P_pn = nume_acc / deno_acc\n",
    "# Output the results\n",
    "print(f\"Numerator: {nume_acc:.5f}\")\n",
    "print(f\"Denominator: {deno_acc:.3f}\")\n",
    "print(f\"Probability of finding a proton-neutron pair within 1 fm in {target} is: {P_pn * 100:.3f}%\")"
   ]
  },
  {
   "cell_type": "markdown",
   "metadata": {},
   "source": [
    "<h2 style=\"text-align: center; color: lightpink\"> Reading Nadia's Summary File </h2>"
   ]
  },
  {
   "cell_type": "code",
   "execution_count": 13,
   "metadata": {},
   "outputs": [
    {
     "name": "stdout",
     "output_type": "stream",
     "text": [
      "0.01\n",
      "Column 14 in Nadia's summary file for h2 is 3.885\n",
      "Probability of pn pair within 1fm according to Nadia's calculation 10.00%\n",
      "0.053\n",
      "Probability of pp pair within 1fm according to Nadia's calculation 5.30%\n",
      "0.053\n",
      "Probability of nn pair within 1fm according to Nadia's calculation 5.30%\n"
     ]
    }
   ],
   "source": [
    "x = 14\n",
    "nadia_Ppn = nadia_data[target][18] / nadia_data[target][16]\n",
    "print(f'{nadia_data[target][16]}')\n",
    "print(f\"Column {x} in Nadia's summary file for {target} is {nadia_data[target][x-2]}\")\n",
    "print(f\"Probability of pn pair within 1fm according to Nadia's calculation {nadia_Ppn * 100:.2f}%\")\n",
    "print(nadia_data[target][17])\n",
    "nadia_Ppp = nadia_data[target][17] / nadia_data[target][15]\n",
    "print(f\"Probability of pp pair within 1fm according to Nadia's calculation {nadia_Ppp * 100:.2f}%\")\n",
    "print(nadia_data[target][23])\n",
    "nadia_Pnn = nadia_data[target][23] / nadia_data[target][22]\n",
    "print(f\"Probability of nn pair within 1fm according to Nadia's calculation {nadia_Pnn * 100:.2f}%\")"
   ]
  },
  {
   "cell_type": "markdown",
   "metadata": {},
   "source": [
    "<h2 style=\"color:lightcoral; text-align:center\">Probability of a proton to be within some distance of a proton (fig2)</h2>"
   ]
  },
  {
   "cell_type": "code",
   "execution_count": 14,
   "metadata": {},
   "outputs": [
    {
     "name": "stdout",
     "output_type": "stream",
     "text": [
      "Numerator: 0.00000\n",
      "Denominator: 0.000\n",
      "Probability of finding a proton-proton pair within 1 fm in h2 is: nan%\n"
     ]
    }
   ],
   "source": [
    "# Create an interpolation function based on the existing data points\n",
    "interpolation_function = interp1d(tbd_r, rhorpp_values, kind = 'linear')\n",
    "\n",
    "# Generate more points within the original domain for a denser dataset\n",
    "new_r = np.linspace(min(tbd_r), max(tbd_r), num = 10000)\n",
    "\n",
    "# Evaluate the interpolation function on the new momentum points\n",
    "new_rhorpp_values = interpolation_function(new_r)\n",
    "\n",
    "# Filter arrays where new_r < 1\n",
    "indices = np.where(new_r < dist)[0]\n",
    "new_l1f = new_r[indices]\n",
    "new_rhorpp_l1f = new_rhorpp_values[indices]\n",
    "\n",
    "# Numerator integration using Simpson's rule on interpolated data\n",
    "nume_acc = 4 * np.pi * simps(new_rhorpp_l1f * new_l1f**2, new_l1f)\n",
    "\n",
    "# For denominator, make sure to use interpolated values on full range\n",
    "deno_acc = 4 * np.pi * simps(new_rhorpp_values * new_r**2, new_r)\n",
    "\n",
    "P_pp = nume_acc / deno_acc\n",
    "# Output the results\n",
    "print(f\"Numerator: {nume_acc:.5f}\")\n",
    "print(f\"Denominator: {deno_acc:.3f}\")\n",
    "print(f\"Probability of finding a proton-proton pair within 1 fm in {target} is: {P_pp * 100:.3f}%\")"
   ]
  },
  {
   "cell_type": "markdown",
   "metadata": {},
   "source": [
    "<h2 style=\"color:lightcoral; text-align:center\">Probability of a neutron to be within some distance of a neutron (fig2)</h2>"
   ]
  },
  {
   "cell_type": "code",
   "execution_count": 15,
   "metadata": {},
   "outputs": [
    {
     "name": "stdout",
     "output_type": "stream",
     "text": [
      "Numerator: 0.00000\n",
      "Denominator: 0.000\n",
      "Probability of finding a neutron-neutron pair within 1 fm in h2 is: nan%\n"
     ]
    }
   ],
   "source": [
    "# Create an interpolation function based on the existing data points\n",
    "interpolation_function = interp1d(tbd_r, rhornn_values, kind = 'linear')\n",
    "\n",
    "# Generate more points within the original domain for a denser dataset\n",
    "new_r = np.linspace(min(tbd_r), max(tbd_r), num = 10000)\n",
    "\n",
    "# Evaluate the interpolation function on the new momentum points\n",
    "new_rhornn_values = interpolation_function(new_r)\n",
    "\n",
    "# Filter arrays where new_r < 1\n",
    "indices = np.where(new_r < dist)[0]\n",
    "new_l1f = new_r[indices]\n",
    "new_rhornn_l1f = new_rhornn_values[indices]\n",
    "\n",
    "# Numerator integration using Simpson's rule on interpolated data\n",
    "nume_acc = 4 * np.pi * simps(new_rhornn_l1f * new_l1f**2, new_l1f)\n",
    "\n",
    "# For denominator, make sure to use interpolated values on full range\n",
    "deno_acc = 4 * np.pi * simps(new_rhornn_values * new_r**2, new_r)\n",
    "\n",
    "P_nn = nume_acc / deno_acc\n",
    "# Output the results\n",
    "print(f\"Numerator: {nume_acc:.5f}\")\n",
    "print(f\"Denominator: {deno_acc:.3f}\")\n",
    "if nume_acc == 0:\n",
    "    P_nn = P_pp # Isoscalar nucleus\n",
    "print(f\"Probability of finding a neutron-neutron pair within 1 fm in {target} is: {P_nn * 100:.3f}%\")"
   ]
  },
  {
   "cell_type": "markdown",
   "metadata": {},
   "source": [
    "<h1 style=\"color:lightsteelblue; text-align:center\">Fraction of high momentum protons above a certain momentum (fig4)</h1>"
   ]
  },
  {
   "cell_type": "code",
   "execution_count": 16,
   "metadata": {},
   "outputs": [
    {
     "name": "stdout",
     "output_type": "stream",
     "text": [
      "Numerator momentum: 0.022037057786202057\n",
      "Denominator momentum: 1.0450804415102455\n",
      "Fraction of protons at momenta above 2fm^-1: 0.0211\n"
     ]
    }
   ],
   "source": [
    "mom_threshold = 2.0\n",
    "\n",
    "# Create an interpolation function based on the existing data points\n",
    "interpolation_function = interp1d(momentum, rhokp1_values, kind = 'linear')\n",
    "\n",
    "# Generate more points within the original domain for a denser dataset\n",
    "new_momentum = np.linspace(min(momentum), max(momentum), num = 500)\n",
    "\n",
    "# Evaluate the interpolation function on the new momentum points\n",
    "new_rhokp1_values = interpolation_function(new_momentum)\n",
    "\n",
    "# Filter arrays where new_momentum > mom_threshold\n",
    "indices = np.where(new_momentum > mom_threshold)[0]\n",
    "new_m = new_momentum[indices]\n",
    "new_rhokp1_m = new_rhokp1_values[indices]\n",
    "\n",
    "# Numerator integration using Simpson's rule on interpolated data\n",
    "nume_acc = simps(new_rhokp1_m * new_m**2, new_m) / (2 * np.pi**2)\n",
    "\n",
    "# For denominator, make sure to use interpolated values on full range\n",
    "deno_acc = simps(new_rhokp1_values * new_momentum**2, new_momentum) / (2 * np.pi**2)\n",
    "\n",
    "# Output the results\n",
    "print(\"Numerator momentum:\", nume_acc)\n",
    "print(\"Denominator momentum:\", deno_acc)\n",
    "p_a2f = nume_acc / deno_acc\n",
    "print(f'Fraction of protons at momenta above 2fm^-1: {p_a2f:.4f}') "
   ]
  },
  {
   "cell_type": "markdown",
   "metadata": {},
   "source": [
    "<h2 style=\"color:lightsteelblue; text-align:center\">Fraction of high momentum neutrons above a certain momentum (fig4)</h2>"
   ]
  },
  {
   "cell_type": "code",
   "execution_count": 17,
   "metadata": {},
   "outputs": [
    {
     "name": "stdout",
     "output_type": "stream",
     "text": [
      "Numerator momentum: 0.022037057786202057\n",
      "Denominator momentum: 1.0450804415102455\n",
      "Fraction of neutrons at momenta above 2fm^-1: 0.0211\n"
     ]
    }
   ],
   "source": [
    "# Create an interpolation function based on the existing data points\n",
    "interpolation_function = interp1d(momentum, rhokn1_values, kind = 'linear')\n",
    "\n",
    "# Generate more points within the original domain for a denser dataset\n",
    "new_momentum = np.linspace(min(momentum), max(momentum), num = 500)\n",
    "\n",
    "# Evaluate the interpolation function on the new momentum points\n",
    "new_rhokn1_values = interpolation_function(new_momentum)\n",
    "\n",
    "# Filter arrays where new_momentum > mom_threshold\n",
    "indices = np.where(new_momentum > mom_threshold)[0]\n",
    "new_m = new_momentum[indices]\n",
    "new_rhokn1_m = new_rhokn1_values[indices]\n",
    "\n",
    "# Numerator integration using Simpson's rule on interpolated data\n",
    "nume_acc = simps(new_rhokn1_m * new_m**2, new_m) / (2 * np.pi**2)\n",
    "\n",
    "# For denominator, make sure to use interpolated values on full range\n",
    "deno_acc = simps(new_rhokn1_values * new_momentum**2, new_momentum) / (2 * np.pi**2)\n",
    "\n",
    "# Output the results\n",
    "print(\"Numerator momentum:\", nume_acc)\n",
    "print(\"Denominator momentum:\", deno_acc)\n",
    "n_a2f = nume_acc / deno_acc\n",
    "if deno_acc == 0.0:\n",
    "    n_a2f = p_a2f # Isoscalar nuclei\n",
    "print(f'Fraction of neutrons at momenta above 2fm^-1: {n_a2f:.4f}') "
   ]
  },
  {
   "cell_type": "markdown",
   "metadata": {},
   "source": [
    "<h1 style=\"color:lightgoldenrodyellow; text-align:center\">Nadia's R_np code</h1>"
   ]
  },
  {
   "cell_type": "code",
   "execution_count": 18,
   "metadata": {},
   "outputs": [
    {
     "data": {
      "text/plain": [
       "0.15590221948889382"
      ]
     },
     "execution_count": 18,
     "metadata": {},
     "output_type": "execute_result"
    }
   ],
   "source": [
    "def get_R_np(jj): # jj is xi\n",
    "    p1, p2, p3, p4, p5, p6, p7, p8 = 0.816, -0.661, 0.184, 5.509, -0.034, 8.714, -0.072, 0.450\n",
    "    \n",
    "    r_np_here = (p1 + p2 * jj) + p3 * np.exp(-p4 * jj) + p5 * np.exp(-p6 * (1.0 - jj)) + p7 * (max(0, jj - p8))**2\n",
    "    return r_np_here\n",
    "\n",
    "# result = get_R_np(0.5)\n",
    "# result\n",
    "\n",
    "def nadia_nprat(x, qs):\n",
    "    gamma = np.sqrt(1 + (4 * x**2 * mp**2) / qs**2)\n",
    "    xi = 2 * x / (1 + gamma)\n",
    "    r_np = get_R_np(xi)\n",
    "    return r_np\n",
    "\n",
    "test = nadia_nprat(0.95, 10)\n",
    "test"
   ]
  },
  {
   "cell_type": "markdown",
   "metadata": {},
   "source": [
    "<h1 style=\"text-align: center; color: lightgreen\"> Kinetic Energy Calculation (fig5) </h1>"
   ]
  },
  {
   "cell_type": "markdown",
   "metadata": {},
   "source": [
    "\\begin{equation}\n",
    "    \\langle K_p \\rangle = \\frac{p^2}{2m} = \\frac{1}{2} \\left( \\frac{\\hbar c^2}{m_p} \\right) \\frac{4 \\pi}{(2 \\pi)^3} \\int n_p(k) k^4 dk\n",
    "\\end{equation}"
   ]
  },
  {
   "cell_type": "code",
   "execution_count": 19,
   "metadata": {},
   "outputs": [
    {
     "name": "stdout",
     "output_type": "stream",
     "text": [
      "The kinetic energy is: 9.908\n",
      "PROTON NORMALIZATION:  1.0047782733294552\n"
     ]
    }
   ],
   "source": [
    "integral = simps(rhokp1_values * momentum**4, momentum)\n",
    "# print(f\"The integral is {integral}\")\n",
    "KE = 0.5 * 4 * np.pi * integral * hbar_c**2 / (p_mass * (2 * np.pi)**3)\n",
    "print(f\"The kinetic energy is: {KE:.3f}\")\n",
    "deno_momentum = simps(rhokp1_values * momentum**2, momentum) / (2 * np.pi**2)\n",
    "print(\"PROTON NORMALIZATION: \", deno_momentum)\n",
    "fpke = KE / deno_momentum # f for proton kinetic energy\n",
    "fpke = fpke / 10000 # ad hoc normalization to mimic Nadia's script"
   ]
  },
  {
   "cell_type": "markdown",
   "metadata": {},
   "source": [
    "\\begin{equation}\n",
    "    \\langle K_n \\rangle = \\frac{p^2}{2m} = \\frac{1}{2} \\left( \\frac{\\hbar c^2}{m_n} \\right) \\frac{4 \\pi}{(2 \\pi)^3} \\int n_n(k) k^4 dk\n",
    "\\end{equation}"
   ]
  },
  {
   "cell_type": "code",
   "execution_count": 20,
   "metadata": {},
   "outputs": [
    {
     "name": "stdout",
     "output_type": "stream",
     "text": [
      "The kinetic energy is: 9.895\n",
      "Neutron normalization:  1.0047782733294552\n"
     ]
    }
   ],
   "source": [
    "integral = simps(rhokn1_values * momentum**4, momentum)\n",
    "# print(f\"The integral is {integral}\")\n",
    "KE = 0.5 * 4 * np.pi * integral * hbar_c**2 / (n_mass * (2 * np.pi)**3)\n",
    "print(f\"The kinetic energy is: {KE:.3f}\")\n",
    "deno_momentum = simps(rhokn1_values * momentum**2, momentum) / (2 * np.pi**2)\n",
    "print(\"Neutron normalization: \", deno_momentum)\n",
    "fnke = KE / deno_momentum # f for neutron kinetic energy\n",
    "fnke = fnke / 10000 # ad hoc normalization to mimic Nadia's script"
   ]
  },
  {
   "cell_type": "markdown",
   "metadata": {},
   "source": [
    "<h1 style=\"text-align: center; color: lightblue\"> EMC Effect (fig 7)</h1>"
   ]
  },
  {
   "cell_type": "markdown",
   "metadata": {},
   "source": [
    "\\begin{equation}\n",
    "   R_{EMC} = \\frac{Z (1-f_px) + N R_{n/p} (1-f_nx)}{Z + N R_{n/p}}\n",
    "\\end{equation}\n",
    "\n",
    "\\begin{equation}\n",
    "f_{p,momfrac} = \\text{Fraction of high momentum protons} = \\frac{\\frac{4\\pi}{8\\pi ^3}\\int_{1.0}^{\\infty} n _{p}(k)k ^2 dk}{\\frac{4\\pi}{8\\pi^3}\\int n_{p}(k)k ^2 dk}\n",
    "\\end{equation}\n",
    "\n",
    "\\begin{equation}\n",
    "f_{n, momfrac} = \\frac{\\frac{4\\pi}{8\\pi ^3}\\int_{1.0}^{\\infty} n _{n}(k)k ^2 dk}{\\frac{4\\pi}{8\\pi^3}\\int n_{n}(k)k ^2 dk}\n",
    "\\end{equation}\n",
    "\n",
    "\\begin{equation}\n",
    "    f_{p,close}=\\frac{f_{np}\\times N+f_{pp} \\times (Z-1)}{10}\n",
    "\\end{equation}\n",
    "\n",
    "The factor of 10 is included to keep $f_{p,close}$ sufficiently small.  $f_{n,close}$ is calculated in an analogous way. \n",
    "\\begin{equation}\n",
    "    f_{n,close}=\\frac{f_{np}\\times N+f_{nn} \\times (Z-1)}{10}\n",
    "\\end{equation}\n",
    "\n",
    "\\begin{equation}\n",
    "    f_{np} = \\frac{4\\pi\\int_0^{1} \\rho _{np}(r)r ^2 dr}{4\\pi\\int \\rho _{np}(r)r ^2 dr} = P_{pn}\n",
    "\\end{equation}\n",
    "\n",
    "\\begin{equation}\n",
    "    f_{pp} = \\frac{4\\pi\\int_0^{1} \\rho _{pp}(r)r ^2 dr}{4\\pi\\int \\rho _{pp}(r)r ^2 dr} = P_{pp}\n",
    "\\end{equation}\n",
    "\n",
    "\\begin{equation}\n",
    "    f_{nn} = \\frac{4\\pi\\int_0^{1} \\rho _{nn}(r)r ^2 dr}{4\\pi\\int \\rho _{nn}(r)r ^2 dr} = P_{nn}\n",
    "\\end{equation}"
   ]
  },
  {
   "cell_type": "markdown",
   "metadata": {},
   "source": [
    "<h3 style=\"text-align: center; color: lightcyan\"> Nadia's calculation </h3>"
   ]
  },
  {
   "cell_type": "code",
   "execution_count": 21,
   "metadata": {},
   "outputs": [
    {
     "name": "stdout",
     "output_type": "stream",
     "text": [
      "Nadia values 0.1, 0.053, 0.053\n"
     ]
    }
   ],
   "source": [
    "nyat = N / Z # न्यूट्रोनियत\n",
    "fpclose = ((nadia_Ppn * N) + (nadia_Ppp * (Z-1))) / 10\n",
    "fnclose = ((nadia_Ppn * N) + (nadia_Pnn * (Z-1))) / 10\n",
    "nprat = []\n",
    "print(f\"Nadia values {nadia_Ppn}, {nadia_Ppp}, {nadia_Pnn}\")\n",
    "x = np.linspace(0.02, 0.99, 1000)\n",
    "nadia_remc = np.zeros(len(x))\n",
    "for i in range(len(x)):\n",
    "    # remc[i] = (Z * (1 - fpclose * x[i]) + N * nadia_nprat(x[i], qs) * (1 - fnclose * x[i])) / (Z + N * nadia_nprat(x[i], qs))\n",
    "    num = (1 - fpclose * x[i]) + nyat * nadia_nprat(x[i], qs) * (1 - fnclose * x[i])\n",
    "    den = 1 + nyat * nadia_nprat(x[i], qs)\n",
    "    nadia_remc[i] = num / den\n",
    "    nprat.append(nadia_nprat(x[i], qs))\n",
    "    # print(f'{nadia_remc[i]} {nadia_nprat(x[i], qs)}')\n",
    "# plt.plot(x, nadia_remc, label = 'closeness')\n",
    "# plt.xlabel('x')\n",
    "# plt.ylabel('EMC Effect (Using Nadia f2n/f2p)')\n",
    "# plt.title(fr'A = {Z + N} and Z = {Z} for {target} at $Q^2$ = {qs} GeV$^2$ (Nadia values)')\n",
    "# plt.grid(alpha = 0.2)\n",
    "# plt.legend()\n",
    "# print(f\"{remc[0]:.4f}\")\n",
    "# plt.savefig(f'plots/{target}_emc_{time.time():.0f}.pdf')"
   ]
  },
  {
   "cell_type": "markdown",
   "metadata": {},
   "source": [
    "<h3 style=\"text-align: center; color: lightcyan\"> Abhyuday's calculation (closeness) </h3>"
   ]
  },
  {
   "cell_type": "code",
   "execution_count": 22,
   "metadata": {},
   "outputs": [
    {
     "name": "stdout",
     "output_type": "stream",
     "text": [
      "Proton-proton probability is not a number so the target must be deuterium. Setting P_pp & P_nn to 0\n",
      "My values 0.0527824192662192, 0, 0\n",
      "0.9973319253172117 Rn/p = 0.4933894086779281 0.005278241926621919 0.005278241926621919 0.5054854854854854\n"
     ]
    }
   ],
   "source": [
    "if np.isnan(P_pp) and target == 'h2':\n",
    "    print(f'Proton-proton probability is not a number so the target must be deuterium. Setting P_pp & P_nn to 0')\n",
    "    P_pp = P_nn = 0 \n",
    "    \n",
    "fpclose = ((P_pn * N) + (P_pp * (Z - 1))) / 10\n",
    "fnclose = ((P_pn * Z) + (P_nn * (N - 1))) / 10\n",
    "\n",
    "print(f\"My values {P_pn}, {P_pp}, {P_nn}\")\n",
    "x = np.linspace(0.02, 0.99, 1000)\n",
    "remcls, remcmf, remcke, remcdens = (np.zeros(len(x)) for _ in range(4))\n",
    "\n",
    "for i in range(len(x)):\n",
    "    remcls[i] = (Z * (1 - fpclose * x[i]) + N * nadia_nprat(x[i], qs) * (1 - fnclose * x[i])) / (Z + N * nadia_nprat(x[i], qs))\n",
    "    if i == 500:\n",
    "        print(f'{remcls[i]} Rn/p = {nadia_nprat(x[i], qs)} {fpclose} {fnclose} {x[i]}')\n",
    "    # print(f'{remc[i]} {nadia_nprat(x[i], qs)}')"
   ]
  },
  {
   "cell_type": "markdown",
   "metadata": {},
   "source": [
    "<h3 style=\"text-align: center; color: lightcyan\"> Abhyuday's calculation (mom-frac) </h3>"
   ]
  },
  {
   "cell_type": "code",
   "execution_count": 23,
   "metadata": {},
   "outputs": [
    {
     "data": {
      "text/plain": [
       "[<matplotlib.lines.Line2D at 0x169aa5900>]"
      ]
     },
     "execution_count": 23,
     "metadata": {},
     "output_type": "execute_result"
    },
    {
     "data": {
      "image/png": "[encoded data removed]",
      "text/plain": [
       "<Figure size 640x480 with 1 Axes>"
      ]
     },
     "metadata": {},
     "output_type": "display_data"
    }
   ],
   "source": [
    "plt.plot(x, remcls, label = 'closeness')"
   ]
  },
  {
   "cell_type": "code",
   "execution_count": 24,
   "metadata": {},
   "outputs": [],
   "source": [
    "for i in range(len(x)):\n",
    "    remcmf[i] = (Z * (1 - (p_a2f * x[i])) + N * nadia_nprat(x[i], qs) * (1 - (n_a2f * x[i]))) / (Z + (N * nadia_nprat(x[i], qs)))\n",
    "\n",
    "# from remc import remcls_c12_0p5, remcls_c12_0p75, remcls_c12_1p0, remcls_c12_1p25, remcls_c12_1p5\n",
    "# from remc import remcls_c12_1p75, remcls_c12_2p0, remcls_c12_2p25, remcls_c12_2p5\n",
    "\n",
    "# # plt.plot(x, remcls_c12_2p5, label = '2.5fm', color = 'cyan')\n",
    "# # plt.plot(x, remcls_c12_2p25, label = '2.25fm', color = 'gold')\n",
    "# # plt.plot(x, remcls_c12_2p0, label = '2fm', color = 'blue')\n",
    "# # plt.plot(x, remcls_c12_1p75, label = '1.75fm', color = 'lightgreen')\n",
    "# # plt.plot(x, remcls_c12_1p5, label = '1.5fm', color = 'red')\n",
    "# # plt.plot(x, remcls_c12_1p25, label = '1.25fm', color = 'purple')\n",
    "# plt.plot(x, remcls_c12_1p0, label = '1fm', color = 'maroon')\n",
    "# # plt.plot(x, remcls_c12_0p75, label = '0.75fm', color = 'seagreen')\n",
    "# # plt.plot(x, remcls_c12_0p5, label = '0.5fm', color = 'darkblue')\n",
    "\n",
    "# from remc import remc_mf_c12, remc_mf_c12_1, remc_mf_c12_1p5, remc_mf_c12_1p75, remc_mf_c12_1p25, remc_mf_c12_0p25, remc_mf_c12_0p3, remc_mf_c12_0p4\n",
    "# from remc import remc_mf_c12_0p5, remc_mf_c12_0p6, remc_mf_c12_0p7, remc_mf_c12_0p8, remc_mf_c12_0p9, remc_mf_c12_2p25, remc_mf_c12_2p5, remc_mf_c12_2p75\n",
    "# from remc import remc_mf_c12_3p0\n",
    "# # plt.plot(x, remcmf, label = fr'{mom_threshold}$fm^{-1}$', color = 'green')\n",
    "# # plt.plot(x, remc_mf_c12_3p0, label = r'3.0$fm^{-1}$', color = 'darkorange')\n",
    "# # plt.plot(x, remc_mf_c12_2p75, label = r'2.75$fm^{-1}$', color = 'gold')\n",
    "# # plt.plot(x, remc_mf_c12_2p5, label = r'2.5$fm^{-1}$', color = 'magenta')\n",
    "# # plt.plot(x, remc_mf_c12_2p25, label = r'2.25$fm^{-1}$', color = 'cyan')\n",
    "# # plt.plot(x, remc_mf_c12, label = r'2$fm^{-1}$', color = 'blue')\n",
    "# # plt.plot(x, remc_mf_c12_1p75, label = r'1.75$fm^{-1}$', color = 'lightgreen')\n",
    "# # plt.plot(x, remc_mf_c12_1p5, label = r'1.5$fm^{-1}$', color = 'red')\n",
    "# # plt.plot(x, remc_mf_c12_1p25, label = r'1.25$fm^{-1}$', color = 'purple')\n",
    "# # plt.plot(x, remc_mf_c12_1, label = r'1$fm^{-1}$', color = 'maroon')\n",
    "# # plt.plot(x, remc_mf_c12_0p9, label = r'0.9$fm^{-1}$', color = 'indianred')\n",
    "# # plt.plot(x, remc_mf_c12_0p8, label = r'0.8$fm^{-1}$', color = 'orange')\n",
    "# # plt.plot(x, remc_mf_c12_0p7, label = r'0.7$fm^{-1}$', color = 'yellow')\n",
    "# # plt.plot(x, remc_mf_c12_0p6, label = r'0.6$fm^{-1}$', color = 'seagreen')\n",
    "# # plt.plot(x, remc_mf_c12_0p5, label = r'0.5$fm^{-1}$', color = 'darkblue')\n",
    "# # plt.plot(x, remc_mf_c12_0p4, label = r'0.4$fm^{-1}$', color = 'indigo')\n",
    "# # plt.plot(x, remc_mf_c12_0p3, label = r'0.3$fm^{-1}$', color = 'violet')\n",
    "\n",
    "# plt.xlabel('x')\n",
    "# plt.ylabel('EMC Effect (closeness)')\n",
    "# # plt.title(fr'A = {Z + N} and Z = {Z} for {target} at $Q^2$ = {qs} GeV$^2$')\n",
    "# plt.title(fr'A = {Z + N} and Z = {Z} for {target}')\n",
    "# plt.grid(alpha = 0.2)\n",
    "# plt.legend()\n",
    "# plt.yscale('log')\n",
    "# plt.legend(loc = 'upper right', bbox_to_anchor = (1.3, 1.0))\n",
    "# plt.savefig(f'plots/{target}_emc_{time.time():.0f}.pdf')"
   ]
  },
  {
   "cell_type": "markdown",
   "metadata": {},
   "source": [
    "<h3 style=\"text-align: center; color: lightcyan\"> Abhyuday's calculation (kinetic energy and density) </h3>"
   ]
  },
  {
   "cell_type": "code",
   "execution_count": 25,
   "metadata": {},
   "outputs": [],
   "source": [
    "for i in range(len(x)):\n",
    "    remcke[i] = (Z * (1 - fpke * x[i]) + N * nadia_nprat(x[i], qs) * (1 - fnke * x[i])) / (Z + N * nadia_nprat(x[i], qs))\n",
    "    remcdens[i] = (Z * (1 - fpdens * x[i]) + N * nadia_nprat(x[i], qs) * (1 - fndens * x[i])) / (Z + N * nadia_nprat(x[i], qs))"
   ]
  },
  {
   "cell_type": "markdown",
   "metadata": {},
   "source": [
    "<h2 style=\"text-align: center; color: yellow\"> Fitting the line <h2>"
   ]
  },
  {
   "cell_type": "code",
   "execution_count": null,
   "metadata": {},
   "outputs": [
    {
     "name": "stdout",
     "output_type": "stream",
     "text": [
      "Slope for h2 for closeness is 0.0053\n",
      "Slope for h2 for momentum fraction is 0.0211\n",
      "Slope for h2 for kinetic energy is 0.0010\n",
      "Slope for h2 for density is 0.0760\n"
     ]
    },
    {
     "data": {
      "image/png": "[encoded data removed]",
      "text/plain": [
       "<Figure size 640x480 with 1 Axes>"
      ]
     },
     "metadata": {},
     "output_type": "display_data"
    }
   ],
   "source": [
    "fit_range = (x >= 0.3) & (x <= 0.7)\n",
    "x_fit = x[fit_range]\n",
    "\n",
    "fit_cls, slopecl = fitit(remcls, fit_range, x_fit)\n",
    "fit_mf, slopemf = fitit(remcmf, fit_range, x_fit)\n",
    "fit_ke, slopeke = fitit(remcke, fit_range, x_fit)\n",
    "fit_dens, slopedens = fitit(remcdens, fit_range, x_fit)\n",
    "\n",
    "fig, ax = plt.subplots()\n",
    "# Plot the original data and the fit\n",
    "ax.plot(x, remcls, label = 'closeness', color = 'blue')  # Original data\n",
    "ax.plot(x, remcmf, label = 'mom frac', color = 'red')\n",
    "ax.plot(x, remcke, label = 'kinetic energy', color = 'green')\n",
    "ax.plot(x, remcdens, label = 'density', color = 'gold')\n",
    "ax.plot(x_fit, fit_cls, color = 'black', linestyle = '--')  # Fitted line\n",
    "ax.plot(x_fit, fit_mf, color = 'black', linestyle = '--')\n",
    "ax.plot(x_fit, fit_ke, color = 'black', linestyle = '--')\n",
    "ax.plot(x_fit, fit_dens, color = 'black', linestyle = '--')\n",
    "\n",
    "# Add labels and legend\n",
    "ax.set_xlabel('x')\n",
    "ax.set_ylabel('EMC Effect')\n",
    "ax.legend()\n",
    "ax.grid(alpha = 0.2)\n",
    "ax.title.set_text(f'Z = {Z} and N = {N} for {target}')\n",
    "\n",
    "print(f'Slope for {target} for closeness is {slopecl:.4f}')\n",
    "print(f'Slope for {target} for momentum fraction is {slopemf:.4f}')\n",
    "print(f'Slope for {target} for kinetic energy is {slopeke:.4f}')\n",
    "print(f'Slope for {target} for density is {slopedens:.4f}')\n",
    "# fig.savefig(f'plots/{target}_emc_{time.time():.0f}.png', dpi = 300)"
   ]
  },
  {
   "cell_type": "code",
   "execution_count": 27,
   "metadata": {},
   "outputs": [],
   "source": [
    "# with open('/Users/AbSir/Desktop/FlavaFlav/remc.py', 'a') as f:\n",
    "#     uttar = str(input('Write this to file?'))\n",
    "#     if uttar == 'y':\n",
    "#         print('writing to file')\n",
    "#         # f.write(f'remc_mf_{target}_{mom_threshold} = np.array({remcmf.tolist()})\\n')\n",
    "#         f.write(f'remcls_{target}_{dist} = np.array({remcls.tolist()})\\n')\n",
    "#     else:\n",
    "#         print('नहीं लिखा')"
   ]
  },
  {
   "cell_type": "code",
   "execution_count": null,
   "metadata": {},
   "outputs": [],
   "source": [
    "# Define the quantities to save in the specified order\n",
    "data = [\n",
    "    target,           # Target-1\n",
    "    slopecl,          # Slope for closeness\n",
    "    slopemf,          # Slope for momentum fraction\n",
    "    slopeke,          # Slope for kinetic energy\n",
    "    slopedens,        # Slope for density\n",
    "    A,                # A-2\n",
    "    Z,                # Z-3 (or change if actual A is different)\n",
    "    N,                # N-4\n",
    "    expectation_value,               # Average proton density-5\n",
    "    expectation_value_n,             # Average neutron density-6\n",
    "    fpdens,                          # Average density of nucleons sampled by protons-7\n",
    "    fndens,                          # Average density of nucleons sampled by neutrons-8\n",
    "    density_excluded,                # Excluding scattered protons-9\n",
    "    density_excluded_n,              # Excluding scattered neutrons-10\n",
    "    dist,                            # Distance (dist)-11\n",
    "    P_pn,                            # Probability of neutron within dist fm of proton-12\n",
    "    P_pp,                            # Probability of proton within dist fm of proton-13\n",
    "    P_nn,                            # Probability of neutron within dist fm of neutron-14\n",
    "    mom_threshold,                   # Momentum threshold-15\n",
    "    p_a2f,                           # Fraction of protons above momentum threshold-16\n",
    "    n_a2f,                           # Fraction of neutrons above momentum threshold-17\n",
    "    fpke,                            # Proton kinetic energy-18\n",
    "    deno_momentum,                   # Proton normalization-19\n",
    "    fnke,                            # Neutron kinetic energy-20\n",
    "    deno_momentum,                   # Neutron normalization-21\n",
    "    fpclose,                         # fpclose-22\n",
    "    fnclose,                         # fnclose-23\n",
    "    fpke,                            # Fpke-24\n",
    "    fnke                             # fnke-25\n",
    "]\n",
    "\n",
    "# Write the data to a file with each value separated by \\t\n",
    "uttar = 'n'\n",
    "# uttar = str(input('Write this to file?'))\n",
    "if uttar == 'y':\n",
    "    with open(\"fullsummaryfile.txt\", \"a\") as file:\n",
    "        file.write(\"\\t\".join(str(value) for value in data))\n",
    "        file.write(\"\\n\")\n",
    "    print(\"Data has been written in a single line.\")"
   ]
  },
  {
   "cell_type": "markdown",
   "metadata": {},
   "source": [
    "# ------------------------------------------------------------------------------------------------- #"
   ]
  }
 ],
 "metadata": {
  "kernelspec": {
   "display_name": "root_env",
   "language": "python",
   "name": "python3"
  },
  "language_info": {
   "codemirror_mode": {
    "name": "ipython",
    "version": 3
   },
   "file_extension": ".py",
   "mimetype": "text/x-python",
   "name": "python",
   "nbconvert_exporter": "python",
   "pygments_lexer": "ipython3",
   "version": "3.10.13"
  }
 },
 "nbformat": 4,
 "nbformat_minor": 2
}
