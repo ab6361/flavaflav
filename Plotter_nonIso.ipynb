{
 "cells": [
  {
   "cell_type": "code",
   "execution_count": 24,
   "metadata": {},
   "outputs": [],
   "source": [
    "import numpy as np\n",
    "import matplotlib.pyplot as plt\n",
    "import time, sys\n",
    "sys.path.append('/Users/AbSir/Library/CloudStorage/GoogleDrive-asharda@vols.utk.edu/My Drive/xem2')\n",
    "from common_functions import jra_nprat\n",
    "import warnings\n",
    "from scipy.integrate import simps\n",
    "from scipy.integrate import quad\n",
    "from summary_dictionary import ryan_data, nadia_data\n",
    "from scipy.interpolate import interp1d\n",
    "import scipy.constants as const\n",
    "from scipy.constants import physical_constants\n",
    "\n",
    "target = 'li7'\n",
    "mp = physical_constants['proton mass energy equivalent in MeV'][0] / 1000 # Proton mass in GeV"
   ]
  },
  {
   "cell_type": "markdown",
   "metadata": {},
   "source": [
    "# Reading the 1 body density file"
   ]
  },
  {
   "cell_type": "code",
   "execution_count": 25,
   "metadata": {},
   "outputs": [
    {
     "name": "stdout",
     "output_type": "stream",
     "text": [
      "['.05', '.0695', '.00782', '.0609', '.00679']\n",
      "['.15', '.0705', '.00296', '.0619', '.00258']\n",
      "['.25', '.068', '.001755', '.0609', '.001559']\n",
      "['.35', '.069', '.001264', '.0627', '.001138']\n",
      "['.45', '.0684', '9.74E-4', '.0634', '8.93E-4']\n",
      "['.55', '.0663', '7.83E-4', '.0631', '7.36E-4']\n",
      "['.65', '.0636', '6.47E-4', '.0619', '6.22E-4']\n",
      "['.75', '.063', '5.57E-4', '.0626', '5.47E-4']\n",
      "['.85', '.0616', '4.81E-4', '.0628', '4.84E-4']\n",
      "['.95', '.0602', '4.24E-4', '.0627', '4.36E-4']\n",
      "['1.05', '.0571', '3.73E-4', '.061', '3.9E-4']\n",
      "['1.15', '.0544', '3.31E-4', '.0593', '3.53E-4']\n",
      "['1.25', '.0514', '2.94E-4', '.0573', '3.21E-4']\n",
      "['1.35', '.0483', '2.63E-4', '.0552', '2.93E-4']\n",
      "['1.45', '.0454', '2.36E-4', '.0527', '2.67E-4']\n",
      "['1.55', '.0423', '2.128E-4', '.0504', '2.46E-4']\n",
      "['1.65', '.0395', '1.915E-4', '.0479', '2.24E-4']\n",
      "['1.75', '.0364', '1.728E-4', '.0449', '2.06E-4']\n",
      "['1.85', '.0331', '1.544E-4', '.0417', '1.872E-4']\n",
      "['1.95', '.0301', '1.397E-4', '.0385', '1.719E-4']\n",
      "['2.05', '.02676', '1.246E-4', '.0349', '1.559E-4']\n",
      "['2.15', '.02392', '1.121E-4', '.0318', '1.426E-4']\n",
      "['2.25', '.02122', '1.006E-4', '.0287', '1.302E-4']\n",
      "['2.35', '.01854', '9E-5', '.0256', '1.185E-4']\n",
      "['2.45', '.01594', '7.97E-5', '.0223', '1.064E-4']\n",
      "['2.55', '.01375', '7.12E-5', '.01967', '9.67E-5']\n",
      "['2.65', '.01164', '6.28E-5', '.01699', '8.69E-5']\n",
      "['2.75', '.00985', '5.56E-5', '.01469', '7.84E-5']\n",
      "['2.85', '.00807', '4.85E-5', '.01226', '6.96E-5']\n",
      "['2.95', '.00669', '4.26E-5', '.01041', '6.23E-5']\n",
      "['3.05', '.00552', '3.72E-5', '.00875', '5.56E-5']\n",
      "['3.15', '.00453', '3.258E-5', '.00738', '4.98E-5']\n",
      "['3.25', '.003622', '2.809E-5', '.00601', '4.38E-5']\n",
      "['3.35', '.002919', '2.447E-5', '.00494', '3.87E-5']\n",
      "['3.45', '.002354', '2.123E-5', '.00406', '3.44E-5']\n",
      "['3.55', '.001848', '1.825E-5', '.00327', '3.02E-5']\n",
      "['3.65', '.001515', '1.594E-5', '.00271', '2.67E-5']\n",
      "['3.75', '.001189', '1.363E-5', '.00217', '2.34E-5']\n",
      "['3.85', '9.32E-4', '1.175E-5', '.001744', '2.053E-5']\n",
      "['3.95', '7.35E-4', '1.008E-5', '.001412', '1.808E-5']\n",
      "['4.05', '5.674E-4', '8.61E-6', '.001108', '1.568E-5']\n",
      "['4.15', '4.456E-4', '7.39E-6', '8.86E-4', '1.376E-5']\n",
      "['4.25', '3.474E-4', '6.34E-6', '7.03E-4', '1.195E-5']\n",
      "['4.35', '2.758E-4', '5.45E-6', '5.73E-4', '1.06E-5']\n",
      "['4.45', '2.143E-4', '4.689E-6', '4.53E-4', '9.26E-6']\n",
      "['4.55', '1.697E-4', '4.03E-6', '3.64E-4', '8.13E-6']\n",
      "['4.65', '1.26E-4', '3.343E-6', '2.83E-4', '7.06E-6']\n",
      "['4.75', '9.74E-5', '2.893E-6', '2.18E-4', '6.08E-6']\n",
      "['4.85', '8.052E-5', '2.585E-6', '1.846E-4', '5.52E-6']\n",
      "['4.95', '6.049E-5', '2.144E-6', '1.434E-4', '4.76E-6']\n",
      "['5.05', '4.438E-5', '1.798E-6', '1.069E-4', '4.05E-6']\n",
      "['5.15', '3.689E-5', '1.589E-6', '9.04E-5', '3.67E-6']\n",
      "['5.25', '2.905E-5', '1.372E-6', '7.41E-5', '3.28E-6']\n",
      "['5.35', '2.098E-5', '1.137E-6', '5.36E-5', '2.74E-6']\n",
      "['5.45', '1.713E-5', '9.96E-7', '4.41E-5', '2.44E-6']\n",
      "['5.55', '1.385E-5', '8.85E-7', '3.64E-5', '2.17E-6']\n",
      "['5.65', '9.747E-6', '7.07E-7', '2.68E-5', '1.846E-6']\n",
      "['5.75', '8.442E-6', '6.483E-7', '2.31E-5', '1.681E-6']\n",
      "['5.85', '5.913E-6', '5.382E-7', '1.672E-5', '1.42E-6']\n",
      "['5.95', '5.126E-6', '4.735E-7', '1.526E-5', '1.345E-6']\n",
      "['6.05', '4.703E-6', '4.441E-7', '1.385E-5', '1.251E-6']\n",
      "['6.15', '2.314E-6', '3.039E-7', '7.22E-6', '9.07E-7']\n",
      "['6.25', '3.024E-6', '3.589E-7', '8.92E-6', '9.71E-7']\n",
      "['6.35', '1.871E-6', '2.61E-7', '5.75E-6', '7.72E-7']\n",
      "['6.45', '1.694E-6', '2.448E-7', '5.32E-6', '7.32E-7']\n",
      "['6.55', '1.411E-6', '2.221E-7', '4.39E-6', '6.57E-7']\n",
      "['6.65', '8.41E-7', '1.76E-7', '2.52E-6', '4.86E-7']\n",
      "['6.75', '7.568E-7', '1.594E-7', '2.5E-6', '5.01E-7']\n",
      "['6.85', '6.622E-7', '1.544E-7', '2.05E-6', '4.42E-7']\n",
      "['6.95', '3.446E-7', '9.437E-8', '1.193E-6', '3.22E-7']\n",
      "['7.05', '3.841E-7', '1.068E-7', '1.217E-6', '3.2E-7']\n",
      "['7.15', '2.939E-7', '8.757E-8', '1.055E-6', '3.02E-7']\n",
      "['7.25', '1.321E-7', '6.114E-8', '4.73E-7', '2.039E-7']\n",
      "['7.35', '1.3903E-7', '5.777E-8', '4.5E-7', '1.85E-7']\n",
      "['7.45', '3.5531E-8', '2.5744E-8', '1.556E-7', '1.101E-7']\n",
      "['7.55', '1.4067E-7', '6.455E-8', '3.24E-7', '1.473E-7']\n",
      "['7.65', '4.189E-8', '3.046E-8', '1.395E-7', '9.9E-8']\n",
      "['7.75', '3.513E-8', '2.642E-8', '1.419E-7', '1.046E-7']\n",
      "['7.85', '0', '0', '0', '0']\n",
      "['7.95', '1.3271E-8', '1.3271E-8', '7.07E-8', '7.07E-8']\n",
      "['8.05', '3.0984E-8', '2.2002E-8', '1.327E-7', '9.44E-8']\n",
      "['8.15', '0', '0', '0', '0']\n",
      "['8.25', '0', '0', '0', '0']\n",
      "['8.35', '0', '0', '0', '0']\n",
      "['8.45', '8.225E-9', '8.955E-9', '6.61E-8', '6.61E-8']\n",
      "['8.55', '0', '0', '0', '0']\n",
      "['8.65', '0', '0', '0', '0']\n",
      "['8.75', '0', '0', '0', '0']\n",
      "['8.85', '0', '0', '0', '0']\n",
      "['8.95', '1.33E-8', '1.33E-8', '5.3E-8', '5.3E-8']\n",
      "['9.05', '0', '0', '0', '0']\n",
      "['9.15', '0', '0', '0', '0']\n",
      "['9.25', '0', '0', '0', '0']\n",
      "['9.35', '0', '0', '0', '0']\n",
      "['9.45', '0', '0', '0', '0']\n",
      "['9.55', '0', '0', '0', '0']\n",
      "['9.65', '0', '0', '0', '0']\n",
      "['9.75', '0', '0', '0', '0']\n",
      "['9.85', '0', '0', '0', '0']\n",
      "['9.95', '0', '0', '0', '0']\n",
      "['10.05', '1.235E-8', '1.235E-8', '4.01E-8', '4.01E-8']\n",
      "['10.15', '0', '0', '0', '0']\n",
      "['10.25', '0', '0', '0', '0']\n",
      "['10.35', '0', '0', '0', '0']\n",
      "['10.45', '0', '0', '0', '0']\n",
      "['10.55', '0', '0', '0', '0']\n",
      "['10.65', '0', '0', '0', '0']\n",
      "['10.75', '0', '0', '0', '0']\n",
      "['10.85', '0', '0', '0', '0']\n",
      "['10.95', '0', '0', '0', '0']\n",
      "['11.05', '0', '0', '0', '0']\n",
      "['11.15', '0', '0', '0', '0']\n",
      "['11.25', '0', '0', '0', '0']\n",
      "['11.35', '0', '0', '0', '0']\n",
      "['11.45', '0', '0', '0', '0']\n",
      "['11.55', '0', '0', '0', '0']\n",
      "['11.65', '0', '0', '0', '0']\n",
      "['11.75', '0', '0', '0', '0']\n",
      "['11.85', '0', '0', '0', '0']\n",
      "['11.95', '0', '0', '0', '0']\n",
      "['12.05', '0', '0', '0', '0']\n",
      "['12.15', '0', '0', '0', '0']\n",
      "['12.25', '0', '0', '0', '0']\n",
      "['12.35', '0', '0', '0', '0']\n",
      "['12.45', '0', '0', '0', '0']\n",
      "['12.55', '0', '0', '0', '0']\n",
      "['12.65', '0', '0', '0', '0']\n",
      "['12.75', '0', '0', '0', '0']\n",
      "['12.85', '0', '0', '0', '0']\n",
      "['12.95', '0', '0', '0', '0']\n",
      "['13.05', '0', '0', '0', '0']\n",
      "['13.15', '0', '0', '0', '0']\n",
      "['13.25', '0', '0', '0', '0']\n",
      "['13.35', '0', '0', '0', '0']\n",
      "['13.45', '0', '0', '0', '0']\n",
      "['13.55', '0', '0', '0', '0']\n",
      "['13.65', '0', '0', '0', '0']\n",
      "['13.75', '0', '0', '0', '0']\n",
      "['13.85', '0', '0', '0', '0']\n",
      "['13.95', '0', '0', '0', '0']\n",
      "['14.05', '0', '0', '0', '0']\n",
      "['14.15', '0', '0', '0', '0']\n",
      "['14.25', '0', '0', '0', '0']\n",
      "['14.35', '0', '0', '0', '0']\n",
      "['14.45', '0', '0', '0', '0']\n",
      "['14.55', '0', '0', '0', '0']\n",
      "['14.65', '0', '0', '0', '0']\n",
      "['14.75', '0', '0', '0', '0']\n",
      "['14.85', '0', '0', '0', '0']\n",
      "['14.95', '0', '0', '0', '0']\n",
      "['15.05', '0', '0', '0', '0']\n",
      "['15.15', '0', '0', '0', '0']\n",
      "['15.25', '0', '0', '0', '0']\n",
      "['15.35', '0', '0', '0', '0']\n",
      "['15.45', '0', '0', '0', '0']\n",
      "['15.55', '0', '0', '0', '0']\n",
      "['15.65', '0', '0', '0', '0']\n",
      "['15.75', '0', '0', '0', '0']\n",
      "['15.85', '0', '0', '0', '0']\n",
      "['15.95', '0', '0', '0', '0']\n",
      "['16.05', '0', '0', '0', '0']\n",
      "['16.15', '0', '0', '0', '0']\n",
      "['16.25', '0', '0', '0', '0']\n",
      "['16.35', '0', '0', '0', '0']\n",
      "['16.45', '0', '0', '0', '0']\n",
      "['16.55', '0', '0', '0', '0']\n",
      "['16.65', '0', '0', '0', '0']\n",
      "['16.75', '0', '0', '0', '0']\n",
      "['16.85', '0', '0', '0', '0']\n",
      "['16.95', '0', '0', '0', '0']\n",
      "['17.05', '0', '0', '0', '0']\n",
      "['17.15', '0', '0', '0', '0']\n",
      "['17.25', '0', '0', '0', '0']\n",
      "['17.35', '0', '0', '0', '0']\n",
      "['17.45', '0', '0', '0', '0']\n",
      "['17.55', '0', '0', '0', '0']\n",
      "['17.65', '0', '0', '0', '0']\n",
      "['17.75', '0', '0', '0', '0']\n",
      "['17.85', '0', '0', '0', '0']\n",
      "['17.95', '0', '0', '0', '0']\n",
      "['18.05', '0', '0', '0', '0']\n",
      "['18.15', '0', '0', '0', '0']\n",
      "['18.25', '0', '0', '0', '0']\n",
      "['18.35', '0', '0', '0', '0']\n",
      "['18.45', '0', '0', '0', '0']\n",
      "['18.55', '0', '0', '0', '0']\n",
      "['18.65', '0', '0', '0', '0']\n",
      "['18.75', '0', '0', '0', '0']\n",
      "['18.85', '0', '0', '0', '0']\n",
      "['18.95', '0', '0', '0', '0']\n",
      "['19.05', '0', '0', '0', '0']\n",
      "['19.15', '0', '0', '0', '0']\n",
      "['19.25', '0', '0', '0', '0']\n",
      "['19.35', '0', '0', '0', '0']\n",
      "['19.45', '0', '0', '0', '0']\n",
      "['19.55', '0', '0', '0', '0']\n",
      "['19.65', '0', '0', '0', '0']\n",
      "['19.75', '0', '0', '0', '0']\n",
      "['19.85', '0', '0', '0', '0']\n",
      "['19.95', '0', '0', '0', '0']\n",
      "['20.05', '0', '0', '0', '0']\n"
     ]
    },
    {
     "data": {
      "image/png": "[encoded data removed]",
      "text/plain": [
       "<Figure size 640x480 with 1 Axes>"
      ]
     },
     "metadata": {},
     "output_type": "display_data"
    }
   ],
   "source": [
    "file_path = f'/Users/AbSir/Desktop/FlavaFlav/density/{target}.density'\n",
    "R_list = []\n",
    "RHORP_list = []\n",
    "DRHORP_list = []\n",
    "RHORN_list = []\n",
    "DRHORN_list = []\n",
    "warnings.filterwarnings('ignore')\n",
    "\n",
    "def process_data(file_path):\n",
    "    # Flag to indicate parsing should start\n",
    "    start_parsing = False\n",
    "    \n",
    "    # Open the file for reading\n",
    "    with open(file_path, 'r') as file:\n",
    "        for line in file:\n",
    "            # Check if the current line is the delimiter\n",
    "            if '*****' in line:\n",
    "                start_parsing = True\n",
    "                continue  # Skip the delimiter line\n",
    "            \n",
    "            # Start processing lines after the delimiter\n",
    "            if start_parsing:\n",
    "                # Split the line into columns based on whitespace\n",
    "                columns = line.split()\n",
    "                \n",
    "                # Check if the line has the expected 3 columns\n",
    "                if len(columns) == 5:\n",
    "                    # Convert R and RHORP to float, and DRHORP to float (handling scientific notation)\n",
    "                    try:\n",
    "                        R, RHORP, DRHORP, RHORN, DRHORN = float(columns[0]), float(columns[1]), float(columns[2]), float(columns[3]), float(columns[4])\n",
    "                        R_list.append(R)\n",
    "                        RHORP_list.append(RHORP)\n",
    "                        DRHORP_list.append(DRHORP)\n",
    "                        RHORN_list.append(RHORN)\n",
    "                        DRHORN_list.append(DRHORN)\n",
    "                        print(columns)\n",
    "                    except:\n",
    "                        start_parsing = False\n",
    "                        break\n",
    "\n",
    "    # Return the processed data\n",
    "    # return R_array, RHORP_array, DRHORP_array, RHORN_array, DRHORN_array\n",
    "    return R_list, RHORP_list, DRHORP_list, RHORN_list, DRHORN_list\n",
    "\n",
    "R, RHORP, DHORP, RHORN, DRHORN = process_data(file_path)\n",
    "\n",
    "fig, ax = plt.subplots()\n",
    "\n",
    "# Plot the data\n",
    "ax.errorbar(R, RHORN, marker = 'o', yerr = DHORP, color = 'b', markersize = 3, linestyle = 'None')\n",
    "ax.set_xlabel('Radius in fm')\n",
    "ax.set_ylabel(r'$1/fm^3$')\n",
    "ax.set_yscale('log')\n",
    "ax.set_xlim(0, 15)\n",
    "ax.set_title(f'{target} Neutron Density Distribution')\n",
    "ax.grid(alpha = 0.2)\n",
    "# fig.savefig(f'plots/{target}_density_{time.time():.0f}.pdf')"
   ]
  },
  {
   "cell_type": "markdown",
   "metadata": {},
   "source": [
    "# Reading the 2 body density file"
   ]
  },
  {
   "cell_type": "code",
   "execution_count": 26,
   "metadata": {},
   "outputs": [
    {
     "data": {
      "image/png": "[encoded data removed]",
      "text/plain": [
       "<Figure size 640x480 with 1 Axes>"
      ]
     },
     "metadata": {},
     "output_type": "display_data"
    }
   ],
   "source": [
    "file_path = f'/Users/AbSir/Desktop/FlavaFlav/density2/{target}.density2'\n",
    "RHORPP_list = []\n",
    "RHORNP_list = []\n",
    "RHORNN_list = []\n",
    "R_list = []\n",
    "\n",
    "def process_tbd(file_path):\n",
    "    # Flag to indicate parsing should start\n",
    "    start_parsing = False\n",
    "    \n",
    "    # Open the file for reading\n",
    "    with open(file_path, 'r') as file:\n",
    "        for line in file:\n",
    "            # Check if the current line is the delimiter\n",
    "            if '*****' in line:\n",
    "                start_parsing = True\n",
    "                continue  # Skip the delimiter line\n",
    "            \n",
    "            # Start processing lines after the delimiter\n",
    "            if start_parsing:\n",
    "                # Split the line into columns based on whitespace\n",
    "                columns = line.split()\n",
    "                \n",
    "                # Check if the line has the expected number of columns\n",
    "                if len(columns) == 7:\n",
    "                    # Convert R and RHORP to float, and DRHORP to float (handling scientific notation)\n",
    "                    try:\n",
    "                        R, RHORPP, DRHORPP, RHORNP, DRHORNP, RHORNN, DRHORNN = float(columns[0]), float(columns[1]), float(columns[2]), float(columns[3]), float(columns[4]), float(columns[5]), float(columns[6])\n",
    "                        R_list.append(R)\n",
    "                        RHORPP_list.append(RHORPP)\n",
    "                        RHORNP_list.append(RHORNP)\n",
    "                        RHORNN_list.append(RHORNN)\n",
    "                    except:\n",
    "                        start_parsing = False\n",
    "                        break\n",
    "\n",
    "    # Return the processed data\n",
    "    return R_list, RHORPP_list, RHORNP_list, RHORNN_list\n",
    "\n",
    "R, RHORPP, RHORNP, RHORNN = process_tbd(file_path)\n",
    "\n",
    "tbd_r = np.array(R)\n",
    "rhorpp_values = np.array(RHORPP)\n",
    "rhorpn_values = np.array(RHORNP)\n",
    "rhornn_values = np.array(RHORNN)\n",
    "\n",
    "fig, ax = plt.subplots()\n",
    "# Plot the data\n",
    "ax.errorbar(R, RHORNP, marker = 'o', color = 'b', markersize = 3, linestyle = 'None')\n",
    "ax.set_xlabel('Radius in fm')\n",
    "ax.set_ylabel(r'$1/fm^3$')\n",
    "ax.set_yscale('log')\n",
    "ax.set_xlim(0, 15)\n",
    "ax.set_title(f'{target} Neutron-proton Density Distribution')\n",
    "ax.grid(alpha = 0.2)\n",
    "# fig.savefig(f'plots/{target}_2bodydensity_{time.time():.0f}.pdf')"
   ]
  },
  {
   "cell_type": "markdown",
   "metadata": {},
   "source": [
    "# Reading the momentum file"
   ]
  },
  {
   "cell_type": "code",
   "execution_count": 27,
   "metadata": {},
   "outputs": [
    {
     "data": {
      "image/png": "[encoded data removed]",
      "text/plain": [
       "<Figure size 640x480 with 1 Axes>"
      ]
     },
     "metadata": {},
     "output_type": "display_data"
    }
   ],
   "source": [
    "file_path = f'/Users/AbSir/Desktop/FlavaFlav/momentum/{target}_1.momentum'\n",
    "K_list = []\n",
    "RHOKN1_list = []\n",
    "RHOKP1_list = []\n",
    "\n",
    "def process_mom(file_path):\n",
    "    # Flag to indicate parsing should start\n",
    "    start_parsing = False\n",
    "    \n",
    "    # Open the file for reading\n",
    "    with open(file_path, 'r') as file:\n",
    "        for line in file:\n",
    "            # Check if the current line is the delimiter\n",
    "            if '*****' in line:\n",
    "                start_parsing = True\n",
    "                continue  # Skip the delimiter line\n",
    "            \n",
    "            # Start processing lines after the delimiter\n",
    "            if start_parsing:\n",
    "                # Split the line into columns based on whitespace\n",
    "                columns = line.split()\n",
    "                \n",
    "                # Check if the line has the expected number of columns\n",
    "                if len(columns) == 5:\n",
    "                    # Convert R and RHORP to float, and DRHORP to float (handling scientific notation)\n",
    "                    try:\n",
    "                        K, RHOKN1, DRHOKN1, RHOKP1, DRHOKP1 = float(columns[0]), float(columns[1]), float(columns[2]), float(columns[3]), float(columns[4])\n",
    "                        K_list.append(K)\n",
    "                        RHOKN1_list.append(RHOKN1)\n",
    "                        RHOKP1_list.append(RHOKP1)\n",
    "                    except:\n",
    "                        start_parsing = False\n",
    "                        break\n",
    "\n",
    "    # Return the processed data\n",
    "    return K_list, RHOKN1_list, RHOKP1_list\n",
    "\n",
    "K, RHOKN1, RHOKP1 = process_mom(file_path)\n",
    "\n",
    "momentum = np.array(K)\n",
    "rhokn1_values = np.array(RHOKN1)\n",
    "rhokp1_values = np.array(RHOKP1)\n",
    "\n",
    "fig, ax = plt.subplots()\n",
    "# Plot the data\n",
    "ax.errorbar(K, RHOKN1, marker = 'o', color = 'b', markersize = 3, linestyle = 'None')\n",
    "ax.set_xlabel(r'Momentum in $1/fm$')\n",
    "ax.set_ylabel(r'Neutron Momentum Distribution $fm^3$')\n",
    "ax.set_yscale('log')\n",
    "ax.set_title(f'{target}_1')\n",
    "ax.grid(alpha = 0.2)\n",
    "# fig.savefig(f'plots/{target}_2bodydensity_{time.time():.0f}.pdf')"
   ]
  },
  {
   "cell_type": "markdown",
   "metadata": {},
   "source": [
    "<h1 style=\"color:lightblue; text-align:center\">Calculating average proton density (fig1)</h1>"
   ]
  },
  {
   "cell_type": "markdown",
   "metadata": {},
   "source": [
    "\\begin{equation}\n",
    "    \\langle\\rho\\rangle_p = \\frac{\\int \\rho_p^2(r) r^2 dr}{\\int \\rho_p(r) r^2 dr}\n",
    "\\end{equation}\n",
    "\n",
    "\\begin{equation}\n",
    "    \\text{RMS Radii} = \\sqrt{\\frac{4 \\pi \\int \\rho(r) r^4 \\, dr}{N}}\n",
    "\\end{equation}\n",
    "\n",
    "\\begin{equation}\n",
    "    N = 4 \\pi \\int \\rho(r) r^2 \\, dr\n",
    "\\end{equation}"
   ]
  },
  {
   "cell_type": "code",
   "execution_count": 28,
   "metadata": {},
   "outputs": [
    {
     "name": "stdout",
     "output_type": "stream",
     "text": [
      "The normalization constant is: 2.99957\n",
      "The RMS radius is: 2.2556 fm\n",
      "The expectation value of the proton density for li7 is: 0.0291 fm^3\n"
     ]
    }
   ],
   "source": [
    "# Convert lists to numpy arrays\n",
    "r_values = np.array(R)\n",
    "rhorp_values = np.array(RHORP)\n",
    "rhorn_values = np.array(RHORN)\n",
    "\n",
    "# Calculate the squared values for the numerator\n",
    "rhorp_squared = rhorp_values**2\n",
    "rhorn_squared = rhorn_values**2\n",
    "\n",
    "# Compute the integrals. The first argument is the function to integrate, the second argument is the integration variable in the form of an array\n",
    "numerator = simps(rhorp_squared * r_values**2, r_values)\n",
    "denominator = simps(rhorp_values * r_values**2, r_values)\n",
    "rms = simps(rhorp_values * r_values**4, r_values)\n",
    "normalization = 4 * np.pi * denominator\n",
    "rms_radii = np.sqrt((4 * np.pi * rms) / normalization)\n",
    "\n",
    "# Calculate the expectation value\n",
    "expectation_value = numerator / denominator\n",
    "\n",
    "print(f\"The normalization constant is: {normalization:.5f}\")\n",
    "print(f\"The RMS radius is: {rms_radii:.4f} fm\")\n",
    "print(f\"The expectation value of the proton density for {target} is: {expectation_value:.4f} fm^3\")"
   ]
  },
  {
   "cell_type": "markdown",
   "metadata": {},
   "source": [
    "<h2 style=\"color:lightblue; text-align:center\">Calculating average neutron density (fig1)</h2>"
   ]
  },
  {
   "cell_type": "code",
   "execution_count": 29,
   "metadata": {},
   "outputs": [
    {
     "name": "stdout",
     "output_type": "stream",
     "text": [
      "The expectation value of the neutron density for li7 is: 0.0314 fm^3\n"
     ]
    }
   ],
   "source": [
    "numerator_n = simps(rhorn_squared * r_values**2, r_values)\n",
    "denominator_n = simps(rhorn_values * r_values**2, r_values)\n",
    "normalization_n = 4 * np.pi * denominator_n\n",
    "expectation_value_n = numerator_n / denominator_n\n",
    "print(f\"The expectation value of the neutron density for {target} is: {expectation_value_n:.4f} fm^3\")"
   ]
  },
  {
   "cell_type": "markdown",
   "metadata": {},
   "source": [
    "<h2 style=\"color:lightblue; text-align:center\">Calculating average density of nucleons as sampled by protons (fig1)</h1>"
   ]
  },
  {
   "cell_type": "markdown",
   "metadata": {},
   "source": [
    "\n",
    "\\begin{equation}\n",
    "    \\text{Numerator} = \\int \\rho_p^2(r) r^2 dr\n",
    "\\end{equation}\n",
    "\n",
    "\\begin{equation}\n",
    "    \\text{Denominator} = \\int \\rho_p(r) r^2 dr\n",
    "\\end{equation}"
   ]
  },
  {
   "cell_type": "code",
   "execution_count": 30,
   "metadata": {},
   "outputs": [
    {
     "name": "stdout",
     "output_type": "stream",
     "text": [
      "The average density of nucleons sampled by protons for li7 is: 0.0637 fm^3\n"
     ]
    }
   ],
   "source": [
    "def integrand(r):\n",
    "    return r**2 * rhorp_values * (rhorn_values + rhorp_values)\n",
    "\n",
    "nume_sampled = 4 * np.pi * simps(integrand(r_values), r_values)\n",
    "\n",
    "density_sampled = nume_sampled / normalization\n",
    "print(f\"The average density of nucleons sampled by protons for {target} is: {density_sampled:.4f} fm^3\")"
   ]
  },
  {
   "cell_type": "markdown",
   "metadata": {},
   "source": [
    "<h2 style=\"color:lightblue; text-align:center\">Calculating average density of nucleons as sampled by neutrons (fig1)</h1>"
   ]
  },
  {
   "cell_type": "code",
   "execution_count": 31,
   "metadata": {},
   "outputs": [
    {
     "name": "stdout",
     "output_type": "stream",
     "text": [
      "The average density of nucleons sampled by neutrons for li7 is: 0.0574 fm^3\n"
     ]
    }
   ],
   "source": [
    "def integrand(r):\n",
    "    return r**2 * rhorn_values * (rhorn_values + rhorp_values)\n",
    "\n",
    "nume_sampled = 4 * np.pi * simps(integrand(r_values), r_values)\n",
    "density_sampled_n = nume_sampled / normalization_n\n",
    "print(f\"The average density of nucleons sampled by neutrons for {target} is: {density_sampled_n:.4f} fm^3\")"
   ]
  },
  {
   "cell_type": "markdown",
   "metadata": {},
   "source": [
    "<h2 style=\"color:lightblue; text-align:center\">Excluding scattered protons (fig1)</h1>"
   ]
  },
  {
   "cell_type": "markdown",
   "metadata": {},
   "source": [
    "\\begin{equation}\n",
    "    \\langle \\rho ' \\rangle ^p _p=\\frac{4\\pi\\int [\\rho _p(r)\\times\\frac{Z-1}{Z}+\\rho _n(r)]\\rho_p(r) r^2 dr}{4\\pi\\int \\rho _p(r)r ^2 dr}\n",
    "\\end{equation}"
   ]
  },
  {
   "cell_type": "code",
   "execution_count": 32,
   "metadata": {},
   "outputs": [
    {
     "name": "stdout",
     "output_type": "stream",
     "text": [
      "The average density of nucleons sampled by protons excluding sampled proton for li7 is: 0.0540 fm^3\n"
     ]
    }
   ],
   "source": [
    "def integrand(r):\n",
    "    return r**2 * rhorp_values * (rhorp_values * ((normalization - 1) / normalization) + rhorn_values)\n",
    "\n",
    "nume_excluded = 4 * np.pi * simps(integrand(r_values), r_values)\n",
    "\n",
    "density_excluded = nume_excluded / normalization\n",
    "print(f\"The average density of nucleons sampled by protons excluding sampled proton for {target} is: {density_excluded:.4f} fm^3\")"
   ]
  },
  {
   "cell_type": "markdown",
   "metadata": {},
   "source": [
    "<h2 style=\"color:lightblue; text-align:center\">Excluding scattered neutrons (fig1)</h1>"
   ]
  },
  {
   "cell_type": "code",
   "execution_count": 33,
   "metadata": {},
   "outputs": [
    {
     "name": "stdout",
     "output_type": "stream",
     "text": [
      "The average density of nucleons sampled by neutrons excluding sampled neutron for li7 is: 0.0495 fm^3\n"
     ]
    }
   ],
   "source": [
    "def integrand(r):\n",
    "    return r**2 * rhorn_values * (rhorn_values * ((normalization_n - 1) / normalization_n) + rhorp_values)\n",
    "\n",
    "nume_excluded = 4 * np.pi * simps(integrand(r_values), r_values)\n",
    "density_excluded_n = nume_excluded / normalization_n\n",
    "print(f\"The average density of nucleons sampled by neutrons excluding sampled neutron for {target} is: {density_excluded_n:.4f} fm^3\")"
   ]
  },
  {
   "cell_type": "markdown",
   "metadata": {},
   "source": [
    "# Values in figure 1 reproduced successfully --------------------------------------------------------"
   ]
  },
  {
   "cell_type": "markdown",
   "metadata": {},
   "source": [
    "<h1 style=\"color:lightcoral; text-align:center\">Probability of a neutron to be within 1fm of a proton (fig2)</h1>"
   ]
  },
  {
   "cell_type": "code",
   "execution_count": 34,
   "metadata": {},
   "outputs": [
    {
     "name": "stdout",
     "output_type": "stream",
     "text": [
      "The numerator is:  0.3946\n",
      "The normalization constant is:  11.9966\n",
      "Using straightforward integration, the probability of finding a proton-neutron pair within 1 fm in li7 is: 3.29%\n"
     ]
    }
   ],
   "source": [
    "def integrand(r):\n",
    "    # print(\"r: \", r)\n",
    "    # print(\"rhorpn_values: \", rhorpn_w1f)\n",
    "    return r**2 * rhorpn_w1f\n",
    "\n",
    "w1f = np.array([tbd_r for tbd_r in tbd_r if tbd_r < 1]) # Within 1 fm\n",
    "# print(\"w1f: \", w1f)\n",
    "rhorpn_w1f = np.array([rhorpn_values[i] for i in range(len(tbd_r)) if tbd_r[i] < 1]) # tbd_r is 2 body density radii\n",
    "nume_tbd = 4 * np.pi * simps(integrand(w1f), w1f)\n",
    "print(f\"The numerator is:  {nume_tbd:.4f}\")\n",
    "denominator_tbd = simps(rhorpn_values * tbd_r**2, tbd_r)\n",
    "normalization_tbd = 4 * np.pi * denominator_tbd\n",
    "print(f\"The normalization constant is:  {normalization_tbd:.4f}\")\n",
    "P_pn = (nume_tbd / normalization_tbd)\n",
    "print(f\"Using straightforward integration, the probability of finding a proton-neutron pair within 1 fm in {target} is: {P_pn * 100:.2f}%\")"
   ]
  },
  {
   "cell_type": "markdown",
   "metadata": {},
   "source": [
    "<h2 style=\"text-align: center; color: lightpink\"> Reading Nadia's Summary File </h2>"
   ]
  },
  {
   "cell_type": "code",
   "execution_count": 35,
   "metadata": {},
   "outputs": [
    {
     "name": "stdout",
     "output_type": "stream",
     "text": [
      "Column 18 in Nadia's summary file for li7 is 11.999\n",
      "Probability of pn pair within 1fm according to Nadia's calculation 4.03%\n",
      "0.068\n",
      "Probability of pp pair within 1fm according to Nadia's calculation 2.27%\n",
      "0.125\n",
      "Probability of nn pair within 1fm according to Nadia's calculation 2.08%\n"
     ]
    }
   ],
   "source": [
    "x = 18\n",
    "nadia_Ppn = nadia_data[target][18] / nadia_data[target][16]\n",
    "print(f\"Column {x} in Nadia's summary file for {target} is {nadia_data[target][x-2]}\")\n",
    "print(f\"Probability of pn pair within 1fm according to Nadia's calculation {nadia_Ppn * 100:.2f}%\")\n",
    "print(nadia_data[target][17])\n",
    "nadia_Ppp = nadia_data[target][17] / nadia_data[target][15]\n",
    "print(f\"Probability of pp pair within 1fm according to Nadia's calculation {nadia_Ppp * 100:.2f}%\")\n",
    "print(nadia_data[target][23])\n",
    "nadia_Pnn = nadia_data[target][23] / nadia_data[target][22]\n",
    "print(f\"Probability of nn pair within 1fm according to Nadia's calculation {nadia_Pnn * 100:.2f}%\")"
   ]
  },
  {
   "cell_type": "markdown",
   "metadata": {},
   "source": [
    "<h3 style = \"text-align: center;\"> Interpolating (incorrect method) <h3>"
   ]
  },
  {
   "cell_type": "code",
   "execution_count": 36,
   "metadata": {},
   "outputs": [],
   "source": [
    "# Create an interpolation function based on the existing data points\n",
    "interpolation_function = interp1d(tbd_r, rhorpn_values, kind = 'linear')\n",
    "\n",
    "# Generate more points within the original domain for a denser dataset\n",
    "new_r = np.linspace(min(tbd_r), max(tbd_r), num = 1000000)\n",
    "\n",
    "# Evaluate the interpolation function on the new momentum points\n",
    "new_rhorpn_values = interpolation_function(new_r)\n",
    "\n",
    "# Filter arrays where new_r < 1\n",
    "indices = np.where(new_r < 1)[0]\n",
    "new_l1f = new_r[indices]\n",
    "new_rhorpn_l1f = new_rhorpn_values[indices]\n",
    "\n",
    "# Numerator integration using Simpson's rule on interpolated data\n",
    "nume_acc = 4 * np.pi * simps(new_rhorpn_l1f * new_l1f**2, new_l1f)\n",
    "\n",
    "# For denominator, make sure to use interpolated values on full range\n",
    "deno_acc = 4 * np.pi * simps(new_rhorpn_values * new_r**2, new_r)\n",
    "\n",
    "fnp = nume_acc / deno_acc\n",
    "# Output the results\n",
    "# print(f\"Numerator: {nume_acc:.5f}\")\n",
    "# print(f\"Denominator: {deno_acc:.3f}\")\n",
    "# print(f\"Probability of finding a proton-neutron pair within 1 fm in {target} is: {(nume_acc / deno_acc) * 100:.3f}%\")"
   ]
  },
  {
   "cell_type": "markdown",
   "metadata": {},
   "source": [
    "<h2 style=\"color:lightcoral; text-align:center\">Probability of a proton to be within 1fm of a proton (fig2)</h2>"
   ]
  },
  {
   "cell_type": "code",
   "execution_count": 37,
   "metadata": {},
   "outputs": [
    {
     "name": "stdout",
     "output_type": "stream",
     "text": [
      "The numerator is:  0.0547\n",
      "The normalization constant is:  2.9988\n",
      "Using straightforward integration, the probability of finding a proton-neutron pair within 1 fm in li7 is: 1.83%\n"
     ]
    }
   ],
   "source": [
    "def integrand(r):\n",
    "    return r**2 * rhorpp_w1f\n",
    "\n",
    "w1f = np.array([tbd_r for tbd_r in tbd_r if tbd_r < 1]) # Within 1 fm\n",
    "rhorpp_w1f = np.array([rhorpp_values[i] for i in range(len(tbd_r)) if tbd_r[i] < 1]) # tbd_r is 2 body density radii\n",
    "nume_tbd = 4 * np.pi * simps(integrand(w1f), w1f)\n",
    "print(f\"The numerator is:  {nume_tbd:.4f}\")\n",
    "denominator_tbd = simps(rhorpp_values * tbd_r**2, tbd_r)\n",
    "normalization_tbd = 4 * np.pi * denominator_tbd\n",
    "print(f\"The normalization constant is:  {normalization_tbd:.4f}\")\n",
    "P_pp = (nume_tbd / normalization_tbd)\n",
    "print(f\"Using straightforward integration, the probability of finding a proton-neutron pair within 1 fm in {target} is: {P_pp * 100:.2f}%\")"
   ]
  },
  {
   "cell_type": "markdown",
   "metadata": {},
   "source": [
    "<h1 style=\"color:lightcoral; text-align:center\">Probability of a neutron to be within 1fm of a neutron (fig2)</h2>"
   ]
  },
  {
   "cell_type": "code",
   "execution_count": 38,
   "metadata": {},
   "outputs": [
    {
     "name": "stdout",
     "output_type": "stream",
     "text": [
      "The numerator is:  0.1012\n",
      "The normalization constant is:  5.9984\n",
      "Using straightforward integration, the probability of finding a proton-neutron pair within 1 fm in li7 is: 1.69%\n"
     ]
    }
   ],
   "source": [
    "def integrand(r):\n",
    "    return r**2 * rhornn_w1f\n",
    "\n",
    "w1f = np.array([tbd_r for tbd_r in tbd_r if tbd_r < 1]) # Within 1 fm\n",
    "rhornn_w1f = np.array([rhornn_values[i] for i in range(len(tbd_r)) if tbd_r[i] < 1]) # tbd_r is 2 body density radii\n",
    "nume_tbd = 4 * np.pi * simps(integrand(w1f), w1f)\n",
    "print(f\"The numerator is:  {nume_tbd:.4f}\")\n",
    "denominator_tbd = simps(rhornn_values * tbd_r**2, tbd_r)\n",
    "normalization_tbd = 4 * np.pi * denominator_tbd\n",
    "print(f\"The normalization constant is:  {normalization_tbd:.4f}\")\n",
    "P_nn = (nume_tbd / normalization_tbd)\n",
    "print(f\"Using straightforward integration, the probability of finding a proton-neutron pair within 1 fm in {target} is: {P_nn * 100:.2f}%\")"
   ]
  },
  {
   "cell_type": "markdown",
   "metadata": {},
   "source": [
    "<h1 style=\"color:lightsteelblue; text-align:center\">Fraction of high momentum protons and neutrons (fig4)</h1>"
   ]
  },
  {
   "cell_type": "code",
   "execution_count": 39,
   "metadata": {},
   "outputs": [
    {
     "name": "stdout",
     "output_type": "stream",
     "text": [
      "The numerator is:  0.6073816576435603\n",
      "PROTON NORMALIZATION:  2.999924995908787\n",
      "The fraction of high momentum protons in li7 is: 0.2025\n",
      "The numerator is:  0.7379846746908689\n",
      "NEUTRON NORMALIZATION:  3.9999470823403307\n",
      "The fraction of high momentum neutrons in li7 is: 0.1845\n"
     ]
    }
   ],
   "source": [
    "# The integral is not accurate. Use interpolate and quad instead?\n",
    "m1f = np.array([momentum for momentum in momentum if momentum > 1])\n",
    "rhokp1_m1f = np.array([rhokp1_values[i] for i in range(len(momentum)) if momentum[i] > 1])\n",
    "nume_momentum =  simps(rhokp1_m1f * m1f**2, m1f) / (2 * np.pi**2)\n",
    "print(\"The numerator is: \", nume_momentum)\n",
    "deno_momentum = simps(rhokp1_values * momentum**2, momentum) / (2 * np.pi**2)\n",
    "print(\"PROTON NORMALIZATION: \", deno_momentum)\n",
    "frac = nume_momentum / deno_momentum\n",
    "print(f\"The fraction of high momentum protons in {target} is: {frac:.4f}\")\n",
    "\n",
    "rhokn1_m1f = np.array([rhokn1_values[i] for i in range(len(momentum)) if momentum[i] > 1])\n",
    "n_momentum =  simps(rhokn1_m1f * m1f**2, m1f) / (2 * np.pi**2)\n",
    "print(\"The numerator is: \", n_momentum)\n",
    "d_momentum = simps(rhokn1_values * momentum**2, momentum) / (2 * np.pi**2)\n",
    "print(\"NEUTRON NORMALIZATION: \", d_momentum)\n",
    "frac_n = n_momentum / d_momentum\n",
    "print(f\"The fraction of high momentum neutrons in {target} is: {frac_n:.4f}\")"
   ]
  },
  {
   "cell_type": "markdown",
   "metadata": {},
   "source": [
    "# More accurate integration (debatable) using interpolation\n",
    "## Update: Do not use linear interpolation as the function is not linear, simpson quadrature seems to be most accurate"
   ]
  },
  {
   "cell_type": "code",
   "execution_count": 40,
   "metadata": {},
   "outputs": [
    {
     "name": "stdout",
     "output_type": "stream",
     "text": [
      "Numerator momentum: 0.19664122227213165\n",
      "Denominator momentum: 3.022545211128888\n"
     ]
    }
   ],
   "source": [
    "# Create an interpolation function based on the existing data points\n",
    "interpolation_function = interp1d(momentum, rhokp1_values, kind = 'linear')\n",
    "\n",
    "# Generate more points within the original domain for a denser dataset\n",
    "new_momentum = np.linspace(min(momentum), max(momentum), num = 500)\n",
    "\n",
    "# Evaluate the interpolation function on the new momentum points\n",
    "new_rhokp1_values = interpolation_function(new_momentum)\n",
    "\n",
    "# Filter arrays where new_momentum > 2\n",
    "indices = np.where(new_momentum > 2)[0]\n",
    "new_m1f = new_momentum[indices]\n",
    "new_rhokp1_m1f = new_rhokp1_values[indices]\n",
    "\n",
    "# Numerator integration using Simpson's rule on interpolated data\n",
    "nume_acc = simps(new_rhokp1_m1f * new_m1f**2, new_m1f) / (2 * np.pi**2)\n",
    "\n",
    "# For denominator, make sure to use interpolated values on full range\n",
    "deno_acc = simps(new_rhokp1_values * new_momentum**2, new_momentum) / (2 * np.pi**2)\n",
    "\n",
    "# Output the results\n",
    "print(\"Numerator momentum:\", nume_acc)\n",
    "print(\"Denominator momentum:\", deno_acc)"
   ]
  },
  {
   "cell_type": "markdown",
   "metadata": {},
   "source": [
    "<h1 style=\"color:lightgoldenrodyellow; text-align:center\">Nadia's R_np code</h1>"
   ]
  },
  {
   "cell_type": "code",
   "execution_count": 41,
   "metadata": {},
   "outputs": [
    {
     "data": {
      "text/plain": [
       "0.15590221948889382"
      ]
     },
     "execution_count": 41,
     "metadata": {},
     "output_type": "execute_result"
    }
   ],
   "source": [
    "def get_R_np(jj): # jj is xi\n",
    "    p1, p2, p3, p4, p5, p6, p7, p8 = 0.816, -0.661, 0.184, 5.509, -0.034, 8.714, -0.072, 0.450\n",
    "    \n",
    "    r_np_here = (p1 + p2 * jj) + p3 * np.exp(-p4 * jj) + p5 * np.exp(-p6 * (1.0 - jj)) + p7 * (max(0, jj - p8))**2\n",
    "    return r_np_here\n",
    "\n",
    "# result = get_R_np(0.5)\n",
    "# result\n",
    "\n",
    "def nadia_nprat(x, qs):\n",
    "    gamma = np.sqrt(1 + (4 * x**2 * mp**2) / qs**2)\n",
    "    xi = 2 * x / (1 + gamma)\n",
    "    r_np = get_R_np(xi)\n",
    "    return r_np\n",
    "\n",
    "test = nadia_nprat(0.95, 10)\n",
    "test"
   ]
  },
  {
   "cell_type": "markdown",
   "metadata": {},
   "source": [
    "<h1 style=\"text-align: center; color: lightgreen\"> Kinetic Energy Calculation (fig5) </h1>"
   ]
  },
  {
   "cell_type": "code",
   "execution_count": 42,
   "metadata": {},
   "outputs": [
    {
     "name": "stdout",
     "output_type": "stream",
     "text": [
      "The kinetic energy is: 97.296\n",
      "PROTON NORMALIZATION:  2.999924995908787\n"
     ]
    }
   ],
   "source": [
    "hbar_c = physical_constants['reduced Planck constant times c in MeV fm'][0]\n",
    "# print(f\"\\hbar c in MeV*fm: {hbar_c}\")\n",
    "n_mass = physical_constants['neutron mass energy equivalent in MeV'][0]\n",
    "# print(f\"Mass of neutron in MeV/c^2: {n_mass}\")\n",
    "integral = simps(rhokn1_values * momentum**4, momentum)\n",
    "# print(f\"The integral is {integral}\")\n",
    "KE = 0.5 * 4 * np.pi * integral * hbar_c**2 / (n_mass * (2 * np.pi)**3)\n",
    "print(f\"The kinetic energy is: {KE:.3f}\")\n",
    "deno_momentum = simps(rhokp1_values * momentum**2, momentum) / (2 * np.pi**2)\n",
    "print(\"PROTON NORMALIZATION: \", deno_momentum)"
   ]
  },
  {
   "cell_type": "markdown",
   "metadata": {},
   "source": [
    "<h1 style=\"text-align: center; color: lightblue\"> EMC Effect (fig 7)</h1>"
   ]
  },
  {
   "cell_type": "markdown",
   "metadata": {},
   "source": [
    "\\begin{equation}\n",
    "   R_{EMC} = \\frac{Z (1-f_px) + N R_{n/p} (1-f_nx)}{Z + N R_{n/p}}\n",
    "\\end{equation}\n",
    "\n",
    "\\begin{equation}\n",
    "    f_{p,close}=\\frac{f_{np}\\times N+f_{pp} \\times (Z-1)}{10}\n",
    "\\end{equation}\n",
    "\n",
    "The factor of 10 is included to keep $f_{p,close}$ sufficiently small.  $f_{n,close}$ is calculated in an analogous way. \n",
    "\\begin{equation}\n",
    "    f_{n,close}=\\frac{f_{np}\\times N+f_{nn} \\times (Z-1)}{10}\n",
    "\\end{equation}\n",
    "\n",
    "\\begin{equation}\n",
    "    f_{np} = \\frac{4\\pi\\int_0^{1} \\rho _{np}(r)r ^2 dr}{4\\pi\\int \\rho _{np}(r)r ^2 dr} = P_{pn}\n",
    "\\end{equation}\n",
    "\n",
    "\\begin{equation}\n",
    "    f_{pp} = \\frac{4\\pi\\int_0^{1} \\rho _{pp}(r)r ^2 dr}{4\\pi\\int \\rho _{pp}(r)r ^2 dr} = P_{pp}\n",
    "\\end{equation}\n",
    "\n",
    "\\begin{equation}\n",
    "    f_{nn} = \\frac{4\\pi\\int_0^{1} \\rho _{nn}(r)r ^2 dr}{4\\pi\\int \\rho _{nn}(r)r ^2 dr} = P_{nn}\n",
    "\\end{equation}"
   ]
  },
  {
   "cell_type": "markdown",
   "metadata": {},
   "source": [
    "<h3 style=\"text-align: center; color: lightcyan\"> Nadia's calculation </h3>"
   ]
  },
  {
   "cell_type": "code",
   "execution_count": 43,
   "metadata": {},
   "outputs": [
    {
     "name": "stdout",
     "output_type": "stream",
     "text": [
      "Nadia values 0.04025335444620385, 0.022674224741580526, 0.020833333333333332\n",
      "0.9966499085649477 0.9675772417433169\n",
      "0.9785937962496528 0.8225502196985427\n",
      "0.9605333728943019 0.710591752260072\n",
      "0.9424688560629525 0.6169044355201581\n",
      "0.9244000098155175 0.5332790018855839\n",
      "0.9063261024997946 0.4542342392361902\n",
      "0.8882458399792649 0.37608894931289644\n",
      "0.8701572481947972 0.29648262071338627\n",
      "0.8520566903878776 0.2121160466786749\n",
      "0.8339357871348935 0.11614537259207489\n"
     ]
    },
    {
     "data": {
      "text/plain": [
       "<matplotlib.legend.Legend at 0x15c93aa70>"
      ]
     },
     "execution_count": 43,
     "metadata": {},
     "output_type": "execute_result"
    },
    {
     "data": {
      "image/png": "[encoded data removed]",
      "text/plain": [
       "<Figure size 640x480 with 1 Axes>"
      ]
     },
     "metadata": {},
     "output_type": "display_data"
    }
   ],
   "source": [
    "N = 4\n",
    "Z = 3\n",
    "nyat = N / Z # न्यूट्रोनियत\n",
    "qs = 12\n",
    "fpclose = (nadia_Ppn * N) + (nadia_Ppp * Z) / 10\n",
    "fnclose = (nadia_Ppn * N) + (nadia_Pnn * Z) / 10\n",
    "nprat = []\n",
    "print(f\"Nadia values {nadia_Ppn}, {nadia_Ppp}, {nadia_Pnn}\")\n",
    "x = np.linspace(0.02, 0.99, 10)\n",
    "nadia_remc = np.zeros(len(x))\n",
    "for i in range(len(x)):\n",
    "    # remc[i] = (Z * (1 - fpclose * x[i]) + N * nadia_nprat(x[i], qs) * (1 - fnclose * x[i])) / (Z + N * nadia_nprat(x[i], qs))\n",
    "    num = (1 - fpclose * x[i]) + nyat * nadia_nprat(x[i], qs) * (1 - fnclose * x[i])\n",
    "    den = 1 + nyat * nadia_nprat(x[i], qs)\n",
    "    nadia_remc[i] = num / den\n",
    "    nprat.append(nadia_nprat(x[i], qs))\n",
    "    print(f'{nadia_remc[i]} {nadia_nprat(x[i], qs)}')\n",
    "plt.plot(x, nadia_remc, label = 'closeness')\n",
    "plt.xlabel('x')\n",
    "plt.ylabel('EMC Effect (Using Nadia f2n/f2p)')\n",
    "plt.title(fr'A = {Z + N} and Z = {Z} for {target} at $Q^2$ = {qs} GeV$^2$ (Nadia values)')\n",
    "plt.grid(alpha = 0.2)\n",
    "plt.legend()\n",
    "# print(f\"{remc[0]:.4f}\")\n",
    "# plt.savefig(f'plots/{target}_emc_{time.time():.0f}.pdf')"
   ]
  },
  {
   "cell_type": "code",
   "execution_count": 44,
   "metadata": {},
   "outputs": [
    {
     "data": {
      "text/plain": [
       "[<matplotlib.lines.Line2D at 0x15ca95120>]"
      ]
     },
     "execution_count": 44,
     "metadata": {},
     "output_type": "execute_result"
    },
    {
     "data": {
      "image/png": "[encoded data removed]",
      "text/plain": [
       "<Figure size 640x480 with 1 Axes>"
      ]
     },
     "metadata": {},
     "output_type": "display_data"
    }
   ],
   "source": [
    "plt.plot(x, nprat, marker = '_', color = 'red')"
   ]
  },
  {
   "cell_type": "markdown",
   "metadata": {},
   "source": [
    "<h3 style=\"text-align: center; color: lightcyan\"> Abhyuday's calculation </h3>"
   ]
  },
  {
   "cell_type": "code",
   "execution_count": 45,
   "metadata": {},
   "outputs": [
    {
     "name": "stdout",
     "output_type": "stream",
     "text": [
      "My values 0.03289146910725189, 0.01825337507326003, 0.016866800453049342\n"
     ]
    },
    {
     "data": {
      "image/png": "[encoded data removed]",
      "text/plain": [
       "<Figure size 640x480 with 1 Axes>"
      ]
     },
     "metadata": {},
     "output_type": "display_data"
    }
   ],
   "source": [
    "fpclose = (P_pn * N) + (P_pp * Z) / 10\n",
    "fnclose = (P_pn * N) + (P_nn * Z) / 10\n",
    "print(f\"My values {P_pn}, {P_pp}, {P_nn}\")\n",
    "x = np.linspace(0.02, 0.99, 10)\n",
    "remc = np.zeros(len(x))\n",
    "for i in range(len(x)):\n",
    "    remc[i] = (Z * (1 - fpclose * x[i]) + N * nadia_nprat(x[i], qs) * (1 - fnclose * x[i])) / (Z + N * nadia_nprat(x[i], qs))\n",
    "    # print(f'{remc[i]} {nadia_nprat(x[i], qs)}')\n",
    "plt.plot(x, remc, label = 'Abhyuday')\n",
    "plt.plot(x, nadia_remc, label = 'Nadia', color = 'red')\n",
    "plt.xlabel('x')\n",
    "plt.ylabel('EMC Effect (closeness)')\n",
    "plt.title(fr'A = {Z + N} and Z = {Z} for {target} at $Q^2$ = {qs} GeV$^2$')\n",
    "plt.grid(alpha = 0.2)\n",
    "plt.legend()\n",
    "plt.savefig(f'plots/{target}_emc_{time.time():.0f}.pdf')"
   ]
  },
  {
   "cell_type": "code",
   "execution_count": null,
   "metadata": {},
   "outputs": [],
   "source": []
  }
 ],
 "metadata": {
  "kernelspec": {
   "display_name": "root_env",
   "language": "python",
   "name": "python3"
  },
  "language_info": {
   "codemirror_mode": {
    "name": "ipython",
    "version": 3
   },
   "file_extension": ".py",
   "mimetype": "text/x-python",
   "name": "python",
   "nbconvert_exporter": "python",
   "pygments_lexer": "ipython3",
   "version": "3.10.13"
  }
 },
 "nbformat": 4,
 "nbformat_minor": 2
}
