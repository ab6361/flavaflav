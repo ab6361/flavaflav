{
 "cells": [
  {
   "cell_type": "code",
   "execution_count": 10,
   "metadata": {},
   "outputs": [
    {
     "ename": "SyntaxError",
     "evalue": "invalid syntax (<ipython-input-10-5353de881c66>, line 1)",
     "output_type": "error",
     "traceback": [
      "\u001b[1;36m  File \u001b[1;32m\"<ipython-input-10-5353de881c66>\"\u001b[1;36m, line \u001b[1;32m1\u001b[0m\n\u001b[1;33m    pylab inline\u001b[0m\n\u001b[1;37m          ^\u001b[0m\n\u001b[1;31mSyntaxError\u001b[0m\u001b[1;31m:\u001b[0m invalid syntax\n"
     ]
    }
   ],
   "source": [
    "pylab inline"
   ]
  },
  {
   "cell_type": "code",
   "execution_count": 11,
   "metadata": {},
   "outputs": [
    {
     "name": "stdout",
     "output_type": "stream",
     "text": [
      "['b10_3p' '5.000' '5.000' '0.879' '0.366' '0.879' '0.366' '151.641'\n",
      " '151.641' '99.412' '75.787' '99.412' '75.787' '4.998' '0.082' '2.360'\n",
      " '4.998' '0.082' '2.360' '10.002' '24.999' '10.002' '0.016' '0.032'\n",
      " '0.016' '3.616' '3.437' '3.616' '1' '5' '5'] \n",
      " 31 \n",
      " \n",
      " [5.00000e+00 5.00000e+00 8.79000e-01 3.66000e-01 8.79000e-01 3.66000e-01\n",
      " 1.51641e+02 1.51641e+02 9.94120e+01 7.57870e+01 9.94120e+01 7.57870e+01\n",
      " 4.99800e+00 8.20000e-02 2.36000e+00 4.99800e+00 8.20000e-02 2.36000e+00\n",
      " 1.00020e+01 2.49990e+01 1.00020e+01 1.60000e-02 3.20000e-02 1.60000e-02\n",
      " 3.61600e+00 3.43700e+00 3.61600e+00 1.00000e+00 5.00000e+00 5.00000e+00] \n",
      " 30\n"
     ]
    }
   ],
   "source": [
    "dataWN = genfromtxt('ryan_summary_file.dat',dtype='str')\n",
    "dataTEMP = np.delete(dataWN, 0, 1)\n",
    "dataTEMP = dataTEMP.astype(float)\n",
    "print ( dataWN[0,:], '\\n', size(dataWN[0,:]), '\\n', '\\n',dataTEMP[0,:], '\\n', size(dataTEMP[0,:]))"
   ]
  },
  {
   "cell_type": "code",
   "execution_count": 12,
   "metadata": {},
   "outputs": [],
   "source": [
    "#print (dataWN[:,1],dataWN[:,1], dataWN[:,2], dataWN[:,9], dataWN[:,11])"
   ]
  },
  {
   "cell_type": "code",
   "execution_count": 13,
   "metadata": {},
   "outputs": [],
   "source": [
    "plotable = [[dataWN[i,0], dataWN[i,1], dataWN[i,2], dataWN[i,9], dataWN[i,11]] for i in range(size(dataWN[:,9]))]"
   ]
  },
  {
   "cell_type": "code",
   "execution_count": 14,
   "metadata": {},
   "outputs": [],
   "source": [
    "i=0\n",
    "while i < size (dataWN[:,0]):\n",
    "    newstring = ' '.join([str(elem) for elem in plotable[i]])\n",
    "    bigdataF = open('FORARR.dat', \"a\")\n",
    "    bigdataF.write(newstring+'\\n')\n",
    "    bigdataF.close()\n",
    "    i+=1"
   ]
  },
  {
   "cell_type": "code",
   "execution_count": 25,
   "metadata": {},
   "outputs": [
    {
     "data": {
      "text/plain": [
       "['b10_3p', '5.000', '5.000', '99.412', '99.412']"
      ]
     },
     "execution_count": 25,
     "metadata": {},
     "output_type": "execute_result"
    }
   ],
   "source": [
    "plotable[i]"
   ]
  },
  {
   "cell_type": "code",
   "execution_count": null,
   "metadata": {},
   "outputs": [],
   "source": []
  },
  {
   "cell_type": "code",
   "execution_count": null,
   "metadata": {},
   "outputs": [],
   "source": []
  }
 ],
 "metadata": {
  "kernelspec": {
   "display_name": "Python 3",
   "language": "python",
   "name": "python3"
  }
 },
 "nbformat": 4,
 "nbformat_minor": 4
}
