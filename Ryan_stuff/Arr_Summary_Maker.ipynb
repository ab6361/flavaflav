{
 "cells": [
  {
   "cell_type": "code",
   "execution_count": 1,
   "metadata": {},
   "outputs": [
    {
     "name": "stdout",
     "output_type": "stream",
     "text": [
      "Populating the interactive namespace from numpy and matplotlib\n"
     ]
    }
   ],
   "source": [
    "pylab inline"
   ]
  },
  {
   "cell_type": "code",
   "execution_count": 2,
   "metadata": {},
   "outputs": [
    {
     "data": {
      "text/html": [
       "<style>.container { width:100% !important; }</style>"
      ],
      "text/plain": [
       "<IPython.core.display.HTML object>"
      ]
     },
     "metadata": {},
     "output_type": "display_data"
    }
   ],
   "source": [
    "from IPython.core.display import display, HTML\n",
    "display(HTML(\"<style>.container { width:100% !important; }</style>\"))"
   ]
  },
  {
   "cell_type": "code",
   "execution_count": null,
   "metadata": {},
   "outputs": [],
   "source": []
  },
  {
   "cell_type": "code",
   "execution_count": 29,
   "metadata": {},
   "outputs": [],
   "source": [
    "def bigmod(Wright):\n",
    "    print(Wright)\n",
    "    bigdataF = open('Arr_Summary_File.dat', \"r\")\n",
    "    string_list = bigdataF.readlines()\n",
    "    bigdataF.close()\n",
    "    DaBigData = [] * 23\n",
    "    i=0\n",
    "    k=0\n",
    "    while i<size(string_list):\n",
    "        OriginalFile = string_list[i].split()\n",
    "        if size(OriginalFile) <= 1:\n",
    "            break\n",
    "        if OriginalFile[0] == Wright[0] and OriginalFile[1] == Wright[1] and OriginalFile[2] == Wright[2]:\n",
    "            j=0\n",
    "            while j<size(DaBigData):\n",
    "                DaBigData[j] = Wright[j]\n",
    "            k+=1\n",
    "            break\n",
    "        i+=1\n",
    "    if k > 0:\n",
    "        newstring = ' '.join([str(elem) for elem in DaBigData])\n",
    "        string_list[i] = newstring + '\\n'\n",
    "        bigdataF = open('Arr_Summary_File.dat', \"w\")\n",
    "        new_file_contents = \"\".join(string_list)\n",
    "        bigdataF.write(new_file_contents)\n",
    "        bigdataF.close()\n",
    "    if k == 0:\n",
    "        j=0\n",
    "        while j<size(DaBigData):\n",
    "            DaBigData[j] = 1 # Wright[j]  \n",
    "            j+=1\n",
    "        newstring = ' '.join([str(elem) for elem in Wright])\n",
    "        bigdataF = open('Arr_Summary_File.dat', \"a\")\n",
    "        bigdataF.write(newstring+'\\n')\n",
    "        bigdataF.close()"
   ]
  },
  {
   "cell_type": "code",
   "execution_count": null,
   "metadata": {},
   "outputs": [],
   "source": []
  },
  {
   "cell_type": "code",
   "execution_count": null,
   "metadata": {},
   "outputs": [],
   "source": []
  },
  {
   "cell_type": "code",
   "execution_count": null,
   "metadata": {},
   "outputs": [],
   "source": []
  },
  {
   "cell_type": "code",
   "execution_count": null,
   "metadata": {},
   "outputs": [],
   "source": []
  },
  {
   "cell_type": "markdown",
   "metadata": {},
   "source": [
    "# Start"
   ]
  },
  {
   "cell_type": "code",
   "execution_count": 30,
   "metadata": {},
   "outputs": [
    {
     "name": "stdout",
     "output_type": "stream",
     "text": [
      "['2', '1', '1', '1', '1', '.036597', '.036597', '.036597', '9.9101', '9.8964', '9.9032', '.51139', '.51139', '.51139', '.99906', '.99906', '.07592', '.03796', '.03796', '0', '.053698', '0', '.053698']\n",
      "['3', '1', '2', '2', '.99991', '.077088', '.048003', '.057698', '19.614', '14.956', '16.509', '.56735', '.49259', '.5226', '.99871', '1.9976', '.096788', '.066438', '.063396', '0', '.13007', '.046288', '.065033']\n",
      "['3', '2', '1', '.99996', '2', '.047129', '.075937', '.056731', '14.712', '19.346', '16.257', '.49315', '.5668', '.52268', '1.9981', '.99902', '.09396', '.061499', '.064567', '.045214', '.064334', '0', '.12867']\n",
      "['4', '2', '2', '2', '2', '.10715', '.10715', '.10715', '27.592', '27.554', '27.573', '.60627', '.60627', '.60668', '1.9974', '1.9974', '.1678', '.12585', '.12585', '.063455', '.16172', '.063455', '.16172']\n",
      "['6', '3', '3', '3', '3', '.090959', '.090959', '.090959', '24.292', '24.259', '24.275', '.57828', '.57828', '.57867', '2.9991', '2.9991', '.056123', '.046769', '.046769', '.04638', '.13648', '.04638', '.13648']\n",
      "['7', '3', '4', '4', '3.0001', '.10279', '.084456', '.092312', '26.884', '24.54', '25.544', '.59281', '.53728', '.56273', '2.9983', '3.9984', '.060029', '.053957', '.049476', '.045801', '.16241', '.063394', '.12181']\n",
      "['9', '4', '5', '4.9999', '4', '.11217', '.096071', '.10323', '29.802', '27.098', '28.3', '.59983', '.55268', '.57516', '3.9992', '4.9987', '.067449', '.061525', '.058677', '.065936', '.17503', '.065084', '.14002']\n",
      "['10', '5', '5', '4.9999', '4.9999', '.10353', '.10353', '.10353', '28.701', '28.662', '28.682', '.56195', '.56195', '.56234', '4.998', '4.998', '.07993', '.071937', '.071937', '.064414', '.15261', '.064414', '.15261']\n",
      "['11', '5', '6', '6.0003', '4.9998', '.12587', '.11529', '.1201', '33.405', '31.752', '32.503', '.60452', '.57303', '.58816', '4.9979', '5.9999', '.087091', '.080569', '.077997', '.070305', '.20097', '.085772', '.16748']\n",
      "['12', '6', '6', '6.0003', '6.0003', '.15904', '.15904', '.15904', '38.101', '38.049', '38.075', '.64262', '.64262', '.64307', '5.9978', '5.9978', '.097978', '.089813', '.089813', '.092781', '.21187', '.092781', '.21187']\n",
      "['6', '2', '4', '4', '2', '.11106', '.062847', '.078917', '27.73', '19.119', '21.989', '.62582', '.51061', '.55945', '1.9992', '3.9993', '.058476', '.059361', '.042453', '.05855', '.17124', '.054489', '.08562']\n",
      "['8', '2', '6', '6.0002', '2', '.12643', '.056757', '.074177', '30.681', '19.343', '22.177', '.65625', '.44834', '.52066', '1.999', '5.9992', '.067484', '.079352', '.050827', '.056488', '.20724', '.060164', '.06908']\n",
      "['8', '3', '5', '5', '3', '.11216', '.078987', '.091426', '28.951', '23.979', '25.843', '.60321', '.50223', '.54505', '2.9976', '4.9972', '.074389', '.071956', '.060663', '.048664', '.17834', '.062211', '.107']\n",
      "['9', '3', '6', '6.0001', '3', '.12217', '.080467', '.094369', '31.385', '24.912', '27.07', '.62138', '.49263', '.54281', '2.9981', '5.9964', '.085159', '.086236', '.069987', '.05193', '.20269', '.077178', '.10134']\n",
      "['10', '4', '6', '5.9998', '4', '.11631', '.088321', '.099518', '30.202', '25.95', '27.651', '.60323', '.52132', '.55751', '3.9989', '5.9988', '.075163', '.071495', '.065003', '.064243', '.1763', '.070141', '.11754']\n"
     ]
    }
   ],
   "source": [
    "ArrDat = open('ArrDataAll.dat', \"r\")\n",
    "string_list = ArrDat.readlines()\n",
    "ArrDat.close()\n",
    "#OriginalFile = string_list[i].split() \n",
    "NucleiNum = size(string_list)/30\n",
    "NucleiHold = [\"\"] * 30\n",
    "i=0\n",
    "while i<NucleiNum:\n",
    "    ToWright = [0] * 23\n",
    "    j=0\n",
    "    while j<30:\n",
    "        hold = string_list[i*30+j].split()\n",
    "        NucleiHold[j] = hold\n",
    "        j+=1\n",
    "    ToWright[0] = AA = NucleiHold[0][1]\n",
    "    ToWright[1] = ZZ = NucleiHold[0][3]\n",
    "    ToWright[2] = NN = NucleiHold[0][5]\n",
    "    ToWright[3] = MomNormP = NucleiHold[2][1]\n",
    "    ToWright[4] = MomNormN = NucleiHold[3][1]\n",
    "    ToWright[5] = PF = NucleiHold[5][1]\n",
    "    ToWright[6] = NF = NucleiHold[6][1]\n",
    "    ToWright[7] = AF = NucleiHold[7][1]\n",
    "    ToWright[8] = KEP = NucleiHold[9][1]\n",
    "    ToWright[9] = KEN = NucleiHold[10][1]\n",
    "    ToWright[10] = KEA = NucleiHold[11][1]\n",
    "    ToWright[11] = KE1P = NucleiHold[13][1]\n",
    "    ToWright[12] = KE1N = NucleiHold[14][1]\n",
    "    ToWright[13] = KE1A = NucleiHold[15][1]\n",
    "    ToWright[14] = DenNormP = NucleiHold[17][1]\n",
    "    ToWright[15] = DenNormN = NucleiHold[18][1]\n",
    "    ToWright[16] = AVGDenA =  NucleiHold[20][1]\n",
    "    ToWright[17] = AVGDenZ =  NucleiHold[21][1]\n",
    "    ToWright[18] = AVGDenN =  NucleiHold[22][1]\n",
    "    ToWright[19] = PP = NucleiHold[25][1]\n",
    "    ToWright[20] = NPz = NucleiHold[26][1]\n",
    "    ToWright[21] = NN = NucleiHold[28][1]\n",
    "    ToWright[22] = NPn =NucleiHold[29][1]\n",
    "    bigmod(ToWright)\n",
    "    i+=1"
   ]
  },
  {
   "cell_type": "code",
   "execution_count": null,
   "metadata": {},
   "outputs": [],
   "source": []
  }
 ],
 "metadata": {
  "kernelspec": {
   "display_name": "Python 3",
   "language": "python",
   "name": "python3"
  },
  "language_info": {
   "codemirror_mode": {
    "name": "ipython",
    "version": 3
   },
   "file_extension": ".py",
   "mimetype": "text/x-python",
   "name": "python",
   "nbconvert_exporter": "python",
   "pygments_lexer": "ipython3",
   "version": "3.8.3"
  }
 },
 "nbformat": 4,
 "nbformat_minor": 4
}
