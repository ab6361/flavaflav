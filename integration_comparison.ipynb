{
 "cells": [
  {
   "cell_type": "code",
   "execution_count": 31,
   "metadata": {},
   "outputs": [],
   "source": [
    "import numpy as np\n",
    "import matplotlib.pyplot as plt\n",
    "from scipy.integrate import simpson"
   ]
  },
  {
   "cell_type": "code",
   "execution_count": 32,
   "metadata": {},
   "outputs": [
    {
     "name": "stdout",
     "output_type": "stream",
     "text": [
      "The percentage difference for dx of 0.010 using simpson quadrature is -4.497997529995246e-08%\n"
     ]
    }
   ],
   "source": [
    "points = 160\n",
    "dx = (np.pi / 2) / points\n",
    "l = np.array([np.cos(x) for x in np.linspace(0, np.pi / 2, points)])\n",
    "xl = np.array([x for x in np.linspace(0, np.pi / 2, points)])\n",
    "integral = simpson(y = l, x = xl)\n",
    "diff = 1 - integral\n",
    "print(f\"The percentage difference for dx of {dx:.3f} using simpson quadrature is {diff * 100}%\")"
   ]
  },
  {
   "cell_type": "code",
   "execution_count": 33,
   "metadata": {},
   "outputs": [
    {
     "name": "stdout",
     "output_type": "stream",
     "text": [
      "The percentage difference for dx of 0.010 using simple summation is 0.13493439116600836%\n"
     ]
    }
   ],
   "source": [
    "sum = 0\n",
    "for i in range(len(xl)):\n",
    "    sum += np.cos(xl[i]) * dx\n",
    "diff = 1 - sum\n",
    "print(f\"The percentage difference for dx of {dx:.3f} using simple summation is {diff * 100}%\")"
   ]
  }
 ],
 "metadata": {
  "kernelspec": {
   "display_name": "root_env",
   "language": "python",
   "name": "python3"
  },
  "language_info": {
   "codemirror_mode": {
    "name": "ipython",
    "version": 3
   },
   "file_extension": ".py",
   "mimetype": "text/x-python",
   "name": "python",
   "nbconvert_exporter": "python",
   "pygments_lexer": "ipython3",
   "version": "3.10.13"
  }
 },
 "nbformat": 4,
 "nbformat_minor": 2
}
